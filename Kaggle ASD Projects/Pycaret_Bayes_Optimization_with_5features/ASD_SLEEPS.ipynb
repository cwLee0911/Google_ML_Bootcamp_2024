{
 "cells": [
  {
   "cell_type": "code",
   "execution_count": 1,
   "metadata": {},
   "outputs": [
    {
     "name": "stdout",
     "output_type": "stream",
     "text": [
      "Defaulting to user installation because normal site-packages is not writeable\n",
      "Requirement already satisfied: pandas in /Users/jeahyukjeong/Library/Python/3.9/lib/python/site-packages (2.0.3)\n",
      "Requirement already satisfied: python-dateutil>=2.8.2 in /Users/jeahyukjeong/Library/Python/3.9/lib/python/site-packages (from pandas) (2.9.0.post0)\n",
      "Requirement already satisfied: pytz>=2020.1 in /Users/jeahyukjeong/Library/Python/3.9/lib/python/site-packages (from pandas) (2022.7.1)\n",
      "Requirement already satisfied: tzdata>=2022.1 in /Users/jeahyukjeong/Library/Python/3.9/lib/python/site-packages (from pandas) (2024.1)\n",
      "Requirement already satisfied: numpy>=1.20.3 in /Users/jeahyukjeong/Library/Python/3.9/lib/python/site-packages (from pandas) (1.23.5)\n",
      "Requirement already satisfied: six>=1.5 in /Users/jeahyukjeong/Library/Python/3.9/lib/python/site-packages (from python-dateutil>=2.8.2->pandas) (1.16.0)\n",
      "Defaulting to user installation because normal site-packages is not writeable\n",
      "Requirement already satisfied: pycaret[full] in /Users/jeahyukjeong/Library/Python/3.9/lib/python/site-packages (3.3.2)\n",
      "Requirement already satisfied: ipython>=5.5.0 in /Users/jeahyukjeong/Library/Python/3.9/lib/python/site-packages (from pycaret[full]) (8.18.1)\n",
      "Requirement already satisfied: ipywidgets>=7.6.5 in /Users/jeahyukjeong/Library/Python/3.9/lib/python/site-packages (from pycaret[full]) (7.8.3)\n",
      "Requirement already satisfied: tqdm>=4.62.0 in /Users/jeahyukjeong/Library/Python/3.9/lib/python/site-packages (from pycaret[full]) (4.66.4)\n",
      "Requirement already satisfied: numpy<1.27,>=1.21 in /Users/jeahyukjeong/Library/Python/3.9/lib/python/site-packages (from pycaret[full]) (1.23.5)\n",
      "Requirement already satisfied: pandas<2.2.0 in /Users/jeahyukjeong/Library/Python/3.9/lib/python/site-packages (from pycaret[full]) (2.0.3)\n",
      "Requirement already satisfied: jinja2>=3 in /Users/jeahyukjeong/Library/Python/3.9/lib/python/site-packages (from pycaret[full]) (3.1.4)\n",
      "Requirement already satisfied: scipy<=1.11.4,>=1.6.1 in /Users/jeahyukjeong/Library/Python/3.9/lib/python/site-packages (from pycaret[full]) (1.10.1)\n",
      "Requirement already satisfied: joblib<1.4,>=1.2.0 in /Users/jeahyukjeong/Library/Python/3.9/lib/python/site-packages (from pycaret[full]) (1.3.2)\n",
      "Requirement already satisfied: scikit-learn>1.4.0 in /Users/jeahyukjeong/Library/Python/3.9/lib/python/site-packages (from pycaret[full]) (1.4.2)\n",
      "Requirement already satisfied: pyod>=1.1.3 in /Users/jeahyukjeong/Library/Python/3.9/lib/python/site-packages (from pycaret[full]) (2.0.1)\n",
      "Requirement already satisfied: imbalanced-learn>=0.12.0 in /Users/jeahyukjeong/Library/Python/3.9/lib/python/site-packages (from pycaret[full]) (0.12.3)\n",
      "Requirement already satisfied: category-encoders>=2.4.0 in /Users/jeahyukjeong/Library/Python/3.9/lib/python/site-packages (from pycaret[full]) (2.6.3)\n",
      "Requirement already satisfied: lightgbm>=3.0.0 in /Users/jeahyukjeong/Library/Python/3.9/lib/python/site-packages (from pycaret[full]) (4.4.0)\n",
      "Requirement already satisfied: numba>=0.55.0 in /Users/jeahyukjeong/Library/Python/3.9/lib/python/site-packages (from pycaret[full]) (0.58.1)\n",
      "Requirement already satisfied: requests>=2.27.1 in /Users/jeahyukjeong/Library/Python/3.9/lib/python/site-packages (from pycaret[full]) (2.32.3)\n",
      "Requirement already satisfied: psutil>=5.9.0 in /Users/jeahyukjeong/Library/Python/3.9/lib/python/site-packages (from pycaret[full]) (6.0.0)\n",
      "Requirement already satisfied: markupsafe>=2.0.1 in /Users/jeahyukjeong/Library/Python/3.9/lib/python/site-packages (from pycaret[full]) (2.1.5)\n",
      "Requirement already satisfied: importlib-metadata>=4.12.0 in /Users/jeahyukjeong/Library/Python/3.9/lib/python/site-packages (from pycaret[full]) (7.2.1)\n",
      "Requirement already satisfied: nbformat>=4.2.0 in /Users/jeahyukjeong/Library/Python/3.9/lib/python/site-packages (from pycaret[full]) (5.10.4)\n",
      "Requirement already satisfied: cloudpickle in /Users/jeahyukjeong/Library/Python/3.9/lib/python/site-packages (from pycaret[full]) (2.2.1)\n",
      "Requirement already satisfied: deprecation>=2.1.0 in /Users/jeahyukjeong/Library/Python/3.9/lib/python/site-packages (from pycaret[full]) (2.1.0)\n",
      "Requirement already satisfied: xxhash in /Users/jeahyukjeong/Library/Python/3.9/lib/python/site-packages (from pycaret[full]) (3.4.1)\n",
      "Requirement already satisfied: matplotlib<3.8.0 in /Users/jeahyukjeong/Library/Python/3.9/lib/python/site-packages (from pycaret[full]) (3.7.3)\n",
      "Requirement already satisfied: scikit-plot>=0.3.7 in /Users/jeahyukjeong/Library/Python/3.9/lib/python/site-packages (from pycaret[full]) (0.3.7)\n",
      "Requirement already satisfied: yellowbrick>=1.4 in /Users/jeahyukjeong/Library/Python/3.9/lib/python/site-packages (from pycaret[full]) (1.5)\n",
      "Requirement already satisfied: plotly>=5.14.0 in /Users/jeahyukjeong/Library/Python/3.9/lib/python/site-packages (from pycaret[full]) (5.23.0)\n",
      "Requirement already satisfied: kaleido>=0.2.1 in /Users/jeahyukjeong/Library/Python/3.9/lib/python/site-packages (from pycaret[full]) (0.2.1)\n",
      "Requirement already satisfied: schemdraw==0.15 in /Users/jeahyukjeong/Library/Python/3.9/lib/python/site-packages (from pycaret[full]) (0.15)\n",
      "Requirement already satisfied: plotly-resampler>=0.8.3.1 in /Users/jeahyukjeong/Library/Python/3.9/lib/python/site-packages (from pycaret[full]) (0.10.0)\n",
      "Requirement already satisfied: statsmodels>=0.12.1 in /Users/jeahyukjeong/Library/Python/3.9/lib/python/site-packages (from pycaret[full]) (0.14.2)\n",
      "Requirement already satisfied: sktime==0.26.0 in /Users/jeahyukjeong/Library/Python/3.9/lib/python/site-packages (from pycaret[full]) (0.26.0)\n",
      "Requirement already satisfied: tbats>=1.1.3 in /Users/jeahyukjeong/Library/Python/3.9/lib/python/site-packages (from pycaret[full]) (1.1.3)\n",
      "Requirement already satisfied: pmdarima>=2.0.4 in /Users/jeahyukjeong/Library/Python/3.9/lib/python/site-packages (from pycaret[full]) (2.0.4)\n",
      "Requirement already satisfied: wurlitzer in /Users/jeahyukjeong/Library/Python/3.9/lib/python/site-packages (from pycaret[full]) (3.1.1)\n",
      "Requirement already satisfied: shap~=0.44.0 in /Users/jeahyukjeong/Library/Python/3.9/lib/python/site-packages (from pycaret[full]) (0.44.1)\n",
      "Requirement already satisfied: interpret>=0.2.7 in /Users/jeahyukjeong/Library/Python/3.9/lib/python/site-packages (from pycaret[full]) (0.6.2)\n",
      "Requirement already satisfied: umap-learn>=0.5.2 in /Users/jeahyukjeong/Library/Python/3.9/lib/python/site-packages (from pycaret[full]) (0.5.6)\n",
      "Requirement already satisfied: pyyaml in /Users/jeahyukjeong/Library/Python/3.9/lib/python/site-packages (from pycaret[full]) (6.0.1)\n",
      "Requirement already satisfied: ydata-profiling>=4.3.1 in /Users/jeahyukjeong/Library/Python/3.9/lib/python/site-packages (from pycaret[full]) (4.6.0)\n",
      "Requirement already satisfied: explainerdashboard>=0.3.8 in /Users/jeahyukjeong/Library/Python/3.9/lib/python/site-packages (from pycaret[full]) (0.4.7)\n",
      "Requirement already satisfied: fairlearn==0.7.0 in /Users/jeahyukjeong/Library/Python/3.9/lib/python/site-packages (from pycaret[full]) (0.7.0)\n",
      "Requirement already satisfied: kmodes>=0.11.1 in /Users/jeahyukjeong/Library/Python/3.9/lib/python/site-packages (from pycaret[full]) (0.12.2)\n",
      "Requirement already satisfied: mlxtend>=0.19.0 in /Users/jeahyukjeong/Library/Python/3.9/lib/python/site-packages (from pycaret[full]) (0.23.1)\n",
      "Requirement already satisfied: statsforecast<1.6.0,>=0.5.5 in /Users/jeahyukjeong/Library/Python/3.9/lib/python/site-packages (from pycaret[full]) (1.5.0)\n",
      "Requirement already satisfied: hyperopt>=0.2.7 in /Users/jeahyukjeong/Library/Python/3.9/lib/python/site-packages (from pycaret[full]) (0.2.7)\n",
      "Requirement already satisfied: optuna>=3.0.0 in /Users/jeahyukjeong/Library/Python/3.9/lib/python/site-packages (from pycaret[full]) (3.6.1)\n",
      "Requirement already satisfied: optuna-integration in /Users/jeahyukjeong/Library/Python/3.9/lib/python/site-packages (from pycaret[full]) (3.6.0)\n",
      "Requirement already satisfied: scikit-optimize>=0.9.0 in /Users/jeahyukjeong/Library/Python/3.9/lib/python/site-packages (from pycaret[full]) (0.10.2)\n",
      "Requirement already satisfied: mlflow>=2.0.0 in /Users/jeahyukjeong/Library/Python/3.9/lib/python/site-packages (from pycaret[full]) (2.15.0)\n",
      "Requirement already satisfied: gradio>=3.50.2 in /Users/jeahyukjeong/Library/Python/3.9/lib/python/site-packages (from pycaret[full]) (3.50.2)\n",
      "Requirement already satisfied: boto3>=1.24.56 in /Users/jeahyukjeong/Library/Python/3.9/lib/python/site-packages (from pycaret[full]) (1.34.149)\n",
      "Requirement already satisfied: fastapi in /Users/jeahyukjeong/Library/Python/3.9/lib/python/site-packages (from pycaret[full]) (0.111.1)\n",
      "Requirement already satisfied: uvicorn>=0.17.6 in /Users/jeahyukjeong/Library/Python/3.9/lib/python/site-packages (from pycaret[full]) (0.30.3)\n",
      "Requirement already satisfied: m2cgen>=0.9.0 in /Users/jeahyukjeong/Library/Python/3.9/lib/python/site-packages (from pycaret[full]) (0.10.0)\n",
      "Requirement already satisfied: evidently~=0.4.16 in /Users/jeahyukjeong/Library/Python/3.9/lib/python/site-packages (from pycaret[full]) (0.4.32)\n",
      "Requirement already satisfied: dask>=2024.4.1 in /Users/jeahyukjeong/Library/Python/3.9/lib/python/site-packages (from pycaret[full]) (2024.7.1)\n",
      "Requirement already satisfied: distributed>=2024.4.1 in /Users/jeahyukjeong/Library/Python/3.9/lib/python/site-packages (from pycaret[full]) (2024.7.1)\n",
      "Requirement already satisfied: fugue~=0.8.0 in /Users/jeahyukjeong/Library/Python/3.9/lib/python/site-packages (from pycaret[full]) (0.8.7)\n",
      "Requirement already satisfied: flask in /Users/jeahyukjeong/Library/Python/3.9/lib/python/site-packages (from pycaret[full]) (2.2.3)\n",
      "Requirement already satisfied: Werkzeug<3.0,>=2.2 in /Users/jeahyukjeong/Library/Python/3.9/lib/python/site-packages (from pycaret[full]) (2.3.8)\n",
      "Requirement already satisfied: pytest<8.0.0 in /Users/jeahyukjeong/Library/Python/3.9/lib/python/site-packages (from pycaret[full]) (7.4.4)\n",
      "Requirement already satisfied: moto<5.0.0 in /Users/jeahyukjeong/Library/Python/3.9/lib/python/site-packages (from pycaret[full]) (4.2.14)\n",
      "Requirement already satisfied: dash[testing] in /Users/jeahyukjeong/Library/Python/3.9/lib/python/site-packages (from pycaret[full]) (2.17.1)\n",
      "Requirement already satisfied: catboost<1.2,>=0.23.2 in /Users/jeahyukjeong/Library/Python/3.9/lib/python/site-packages (from pycaret[full]) (1.1.1)\n",
      "Requirement already satisfied: tune-sklearn>=0.2.1 in /Users/jeahyukjeong/Library/Python/3.9/lib/python/site-packages (from pycaret[full]) (0.5.0)\n",
      "Requirement already satisfied: ray>=1.0.0 in /Users/jeahyukjeong/Library/Python/3.9/lib/python/site-packages (from ray[tune]>=1.0.0; (python_version != \"3.11\" and platform_system != \"Windows\") and extra == \"full\"->pycaret[full]) (2.33.0)\n",
      "Requirement already satisfied: xgboost>=1.1.0 in /Users/jeahyukjeong/Library/Python/3.9/lib/python/site-packages (from pycaret[full]) (1.6.2)\n",
      "Requirement already satisfied: packaging in /Users/jeahyukjeong/Library/Python/3.9/lib/python/site-packages (from sktime==0.26.0->pycaret[full]) (21.3)\n",
      "Requirement already satisfied: scikit-base<0.8.0 in /Users/jeahyukjeong/Library/Python/3.9/lib/python/site-packages (from sktime==0.26.0->pycaret[full]) (0.7.8)\n",
      "Requirement already satisfied: botocore<1.35.0,>=1.34.149 in /Users/jeahyukjeong/Library/Python/3.9/lib/python/site-packages (from boto3>=1.24.56->pycaret[full]) (1.34.149)\n",
      "Requirement already satisfied: jmespath<2.0.0,>=0.7.1 in /Users/jeahyukjeong/Library/Python/3.9/lib/python/site-packages (from boto3>=1.24.56->pycaret[full]) (1.0.1)\n",
      "Requirement already satisfied: s3transfer<0.11.0,>=0.10.0 in /Users/jeahyukjeong/Library/Python/3.9/lib/python/site-packages (from boto3>=1.24.56->pycaret[full]) (0.10.2)\n",
      "Requirement already satisfied: graphviz in /Users/jeahyukjeong/Library/Python/3.9/lib/python/site-packages (from catboost<1.2,>=0.23.2->pycaret[full]) (0.20.3)\n",
      "Requirement already satisfied: six in /Users/jeahyukjeong/Library/Python/3.9/lib/python/site-packages (from catboost<1.2,>=0.23.2->pycaret[full]) (1.16.0)\n",
      "Requirement already satisfied: patsy>=0.5.1 in /Users/jeahyukjeong/Library/Python/3.9/lib/python/site-packages (from category-encoders>=2.4.0->pycaret[full]) (0.5.6)\n",
      "Requirement already satisfied: click>=8.1 in /Users/jeahyukjeong/Library/Python/3.9/lib/python/site-packages (from dask>=2024.4.1->pycaret[full]) (8.1.7)\n",
      "Requirement already satisfied: fsspec>=2021.09.0 in /Users/jeahyukjeong/Library/Python/3.9/lib/python/site-packages (from dask>=2024.4.1->pycaret[full]) (2024.6.1)\n",
      "Requirement already satisfied: partd>=1.4.0 in /Users/jeahyukjeong/Library/Python/3.9/lib/python/site-packages (from dask>=2024.4.1->pycaret[full]) (1.4.2)\n",
      "Requirement already satisfied: toolz>=0.10.0 in /Users/jeahyukjeong/Library/Python/3.9/lib/python/site-packages (from dask>=2024.4.1->pycaret[full]) (0.12.1)\n",
      "Requirement already satisfied: locket>=1.0.0 in /Users/jeahyukjeong/Library/Python/3.9/lib/python/site-packages (from distributed>=2024.4.1->pycaret[full]) (1.0.0)\n",
      "Requirement already satisfied: msgpack>=1.0.0 in /Users/jeahyukjeong/Library/Python/3.9/lib/python/site-packages (from distributed>=2024.4.1->pycaret[full]) (1.0.8)\n",
      "Requirement already satisfied: sortedcontainers>=2.0.5 in /Users/jeahyukjeong/Library/Python/3.9/lib/python/site-packages (from distributed>=2024.4.1->pycaret[full]) (2.4.0)\n",
      "Requirement already satisfied: tblib>=1.6.0 in /Users/jeahyukjeong/Library/Python/3.9/lib/python/site-packages (from distributed>=2024.4.1->pycaret[full]) (3.0.0)\n",
      "Requirement already satisfied: tornado>=6.0.4 in /Users/jeahyukjeong/Library/Python/3.9/lib/python/site-packages (from distributed>=2024.4.1->pycaret[full]) (6.4.1)\n",
      "Requirement already satisfied: urllib3>=1.24.3 in /Users/jeahyukjeong/Library/Python/3.9/lib/python/site-packages (from distributed>=2024.4.1->pycaret[full]) (1.26.19)\n",
      "Requirement already satisfied: zict>=3.0.0 in /Users/jeahyukjeong/Library/Python/3.9/lib/python/site-packages (from distributed>=2024.4.1->pycaret[full]) (3.0.0)\n",
      "Requirement already satisfied: nltk>=3.6.7 in /Users/jeahyukjeong/Library/Python/3.9/lib/python/site-packages (from evidently~=0.4.16->pycaret[full]) (3.8.1)\n",
      "Requirement already satisfied: pydantic>=1.10.13 in /Users/jeahyukjeong/Library/Python/3.9/lib/python/site-packages (from evidently~=0.4.16->pycaret[full]) (1.10.17)\n",
      "Requirement already satisfied: litestar>=2.8.3 in /Users/jeahyukjeong/Library/Python/3.9/lib/python/site-packages (from evidently~=0.4.16->pycaret[full]) (2.9.1)\n",
      "Requirement already satisfied: typing-inspect>=0.9.0 in /Users/jeahyukjeong/Library/Python/3.9/lib/python/site-packages (from evidently~=0.4.16->pycaret[full]) (0.9.0)\n",
      "Requirement already satisfied: watchdog>=3.0.0 in /Users/jeahyukjeong/Library/Python/3.9/lib/python/site-packages (from evidently~=0.4.16->pycaret[full]) (4.0.1)\n",
      "Requirement already satisfied: typer>=0.3 in /Users/jeahyukjeong/Library/Python/3.9/lib/python/site-packages (from evidently~=0.4.16->pycaret[full]) (0.12.3)\n",
      "Requirement already satisfied: rich>=13 in /Users/jeahyukjeong/Library/Python/3.9/lib/python/site-packages (from evidently~=0.4.16->pycaret[full]) (13.7.1)\n",
      "Requirement already satisfied: iterative-telemetry>=0.0.5 in /Users/jeahyukjeong/Library/Python/3.9/lib/python/site-packages (from evidently~=0.4.16->pycaret[full]) (0.0.8)\n",
      "Requirement already satisfied: dynaconf>=3.2.4 in /Users/jeahyukjeong/Library/Python/3.9/lib/python/site-packages (from evidently~=0.4.16->pycaret[full]) (3.2.6)\n",
      "Requirement already satisfied: certifi>=2024.7.4 in /Users/jeahyukjeong/Library/Python/3.9/lib/python/site-packages (from evidently~=0.4.16->pycaret[full]) (2024.7.4)\n",
      "Requirement already satisfied: ujson>=5.4.0 in /Users/jeahyukjeong/Library/Python/3.9/lib/python/site-packages (from evidently~=0.4.16->pycaret[full]) (5.10.0)\n",
      "Requirement already satisfied: opentelemetry-api>=1.25.0 in /Users/jeahyukjeong/Library/Python/3.9/lib/python/site-packages (from evidently~=0.4.16->pycaret[full]) (1.26.0)\n",
      "Requirement already satisfied: opentelemetry-sdk>=1.25.0 in /Users/jeahyukjeong/Library/Python/3.9/lib/python/site-packages (from evidently~=0.4.16->pycaret[full]) (1.26.0)\n",
      "Requirement already satisfied: opentelemetry-proto>=1.25.0 in /Users/jeahyukjeong/Library/Python/3.9/lib/python/site-packages (from evidently~=0.4.16->pycaret[full]) (1.26.0)\n",
      "Requirement already satisfied: opentelemetry-exporter-otlp-proto-grpc>=1.25.0 in /Users/jeahyukjeong/Library/Python/3.9/lib/python/site-packages (from evidently~=0.4.16->pycaret[full]) (1.26.0)\n",
      "Requirement already satisfied: opentelemetry-exporter-otlp-proto-http>=1.25.0 in /Users/jeahyukjeong/Library/Python/3.9/lib/python/site-packages (from evidently~=0.4.16->pycaret[full]) (1.26.0)\n",
      "Requirement already satisfied: dash-auth in /Users/jeahyukjeong/Library/Python/3.9/lib/python/site-packages (from explainerdashboard>=0.3.8->pycaret[full]) (2.3.0)\n",
      "Requirement already satisfied: dash-bootstrap-components>=1 in /Users/jeahyukjeong/Library/Python/3.9/lib/python/site-packages (from explainerdashboard>=0.3.8->pycaret[full]) (1.6.0)\n",
      "Requirement already satisfied: dtreeviz>=2.1 in /Users/jeahyukjeong/Library/Python/3.9/lib/python/site-packages (from explainerdashboard>=0.3.8->pycaret[full]) (2.2.2)\n",
      "Requirement already satisfied: flask-simplelogin in /Users/jeahyukjeong/Library/Python/3.9/lib/python/site-packages (from explainerdashboard>=0.3.8->pycaret[full]) (0.1.3)\n",
      "Requirement already satisfied: Flask-WTF>=1.1 in /Users/jeahyukjeong/Library/Python/3.9/lib/python/site-packages (from explainerdashboard>=0.3.8->pycaret[full]) (1.2.1)\n",
      "Requirement already satisfied: jupyter-dash>=0.4.1 in /Users/jeahyukjeong/Library/Python/3.9/lib/python/site-packages (from explainerdashboard>=0.3.8->pycaret[full]) (0.4.2)\n",
      "Requirement already satisfied: oyaml in /Users/jeahyukjeong/Library/Python/3.9/lib/python/site-packages (from explainerdashboard>=0.3.8->pycaret[full]) (1.0)\n",
      "Requirement already satisfied: waitress in /Users/jeahyukjeong/Library/Python/3.9/lib/python/site-packages (from explainerdashboard>=0.3.8->pycaret[full]) (3.0.0)\n",
      "Requirement already satisfied: triad>=0.9.3 in /Users/jeahyukjeong/Library/Python/3.9/lib/python/site-packages (from fugue~=0.8.0->pycaret[full]) (0.9.8)\n",
      "Requirement already satisfied: adagio>=0.2.4 in /Users/jeahyukjeong/Library/Python/3.9/lib/python/site-packages (from fugue~=0.8.0->pycaret[full]) (0.2.4)\n",
      "Requirement already satisfied: qpd>=0.4.4 in /Users/jeahyukjeong/Library/Python/3.9/lib/python/site-packages (from fugue~=0.8.0->pycaret[full]) (0.4.4)\n",
      "Requirement already satisfied: fugue-sql-antlr>=0.1.6 in /Users/jeahyukjeong/Library/Python/3.9/lib/python/site-packages (from fugue~=0.8.0->pycaret[full]) (0.2.0)\n",
      "Requirement already satisfied: sqlglot in /Users/jeahyukjeong/Library/Python/3.9/lib/python/site-packages (from fugue~=0.8.0->pycaret[full]) (25.7.1)\n",
      "Requirement already satisfied: aiofiles<24.0,>=22.0 in /Users/jeahyukjeong/Library/Python/3.9/lib/python/site-packages (from gradio>=3.50.2->pycaret[full]) (23.2.1)\n",
      "Requirement already satisfied: altair<6.0,>=4.2.0 in /Users/jeahyukjeong/Library/Python/3.9/lib/python/site-packages (from gradio>=3.50.2->pycaret[full]) (5.3.0)\n",
      "Requirement already satisfied: ffmpy in /Users/jeahyukjeong/Library/Python/3.9/lib/python/site-packages (from gradio>=3.50.2->pycaret[full]) (0.3.2)\n",
      "Requirement already satisfied: gradio-client==0.6.1 in /Users/jeahyukjeong/Library/Python/3.9/lib/python/site-packages (from gradio>=3.50.2->pycaret[full]) (0.6.1)\n",
      "Requirement already satisfied: httpx in /Users/jeahyukjeong/Library/Python/3.9/lib/python/site-packages (from gradio>=3.50.2->pycaret[full]) (0.27.0)\n",
      "Requirement already satisfied: huggingface-hub>=0.14.0 in /Users/jeahyukjeong/Library/Python/3.9/lib/python/site-packages (from gradio>=3.50.2->pycaret[full]) (0.24.2)\n",
      "Requirement already satisfied: importlib-resources<7.0,>=1.3 in /Users/jeahyukjeong/Library/Python/3.9/lib/python/site-packages (from gradio>=3.50.2->pycaret[full]) (6.4.0)\n",
      "Requirement already satisfied: orjson~=3.0 in /Users/jeahyukjeong/Library/Python/3.9/lib/python/site-packages (from gradio>=3.50.2->pycaret[full]) (3.10.6)\n",
      "Requirement already satisfied: pillow<11.0,>=8.0 in /Users/jeahyukjeong/Library/Python/3.9/lib/python/site-packages (from gradio>=3.50.2->pycaret[full]) (10.4.0)\n",
      "Requirement already satisfied: pydub in /Users/jeahyukjeong/Library/Python/3.9/lib/python/site-packages (from gradio>=3.50.2->pycaret[full]) (0.25.1)\n",
      "Requirement already satisfied: python-multipart in /Users/jeahyukjeong/Library/Python/3.9/lib/python/site-packages (from gradio>=3.50.2->pycaret[full]) (0.0.9)\n",
      "Requirement already satisfied: semantic-version~=2.0 in /Users/jeahyukjeong/Library/Python/3.9/lib/python/site-packages (from gradio>=3.50.2->pycaret[full]) (2.10.0)\n",
      "Requirement already satisfied: typing-extensions~=4.0 in /Users/jeahyukjeong/Library/Python/3.9/lib/python/site-packages (from gradio>=3.50.2->pycaret[full]) (4.12.2)\n",
      "Requirement already satisfied: websockets<12.0,>=10.0 in /Users/jeahyukjeong/Library/Python/3.9/lib/python/site-packages (from gradio>=3.50.2->pycaret[full]) (11.0.3)\n",
      "Requirement already satisfied: networkx>=2.2 in /Users/jeahyukjeong/Library/Python/3.9/lib/python/site-packages (from hyperopt>=0.2.7->pycaret[full]) (3.2.1)\n",
      "Requirement already satisfied: future in /Library/Developer/CommandLineTools/Library/Frameworks/Python3.framework/Versions/3.9/lib/python3.9/site-packages (from hyperopt>=0.2.7->pycaret[full]) (0.18.2)\n",
      "Requirement already satisfied: py4j in /Users/jeahyukjeong/Library/Python/3.9/lib/python/site-packages (from hyperopt>=0.2.7->pycaret[full]) (0.10.9.7)\n",
      "Requirement already satisfied: threadpoolctl>=2.0.0 in /Users/jeahyukjeong/Library/Python/3.9/lib/python/site-packages (from imbalanced-learn>=0.12.0->pycaret[full]) (3.5.0)\n",
      "Requirement already satisfied: zipp>=0.5 in /Users/jeahyukjeong/Library/Python/3.9/lib/python/site-packages (from importlib-metadata>=4.12.0->pycaret[full]) (3.19.2)\n",
      "Requirement already satisfied: interpret-core==0.6.2 in /Users/jeahyukjeong/Library/Python/3.9/lib/python/site-packages (from interpret-core[dash,debug,linear,notebook,plotly,sensitivity,shap]==0.6.2->interpret>=0.2.7->pycaret[full]) (0.6.2)\n",
      "Requirement already satisfied: SALib>=1.3.3 in /Users/jeahyukjeong/Library/Python/3.9/lib/python/site-packages (from interpret-core[dash,debug,linear,notebook,plotly,sensitivity,shap]==0.6.2->interpret>=0.2.7->pycaret[full]) (1.4.8)\n",
      "Requirement already satisfied: ipykernel>=4.10.0 in /Users/jeahyukjeong/Library/Python/3.9/lib/python/site-packages (from interpret-core[dash,debug,linear,notebook,plotly,sensitivity,shap]==0.6.2->interpret>=0.2.7->pycaret[full]) (6.29.5)\n",
      "Requirement already satisfied: dill>=0.2.5 in /Users/jeahyukjeong/Library/Python/3.9/lib/python/site-packages (from interpret-core[dash,debug,linear,notebook,plotly,sensitivity,shap]==0.6.2->interpret>=0.2.7->pycaret[full]) (0.3.8)\n",
      "Requirement already satisfied: dash-core-components>=1.0.0 in /Users/jeahyukjeong/Library/Python/3.9/lib/python/site-packages (from interpret-core[dash,debug,linear,notebook,plotly,sensitivity,shap]==0.6.2->interpret>=0.2.7->pycaret[full]) (2.0.0)\n",
      "Requirement already satisfied: dash-html-components>=1.0.0 in /Users/jeahyukjeong/Library/Python/3.9/lib/python/site-packages (from interpret-core[dash,debug,linear,notebook,plotly,sensitivity,shap]==0.6.2->interpret>=0.2.7->pycaret[full]) (2.0.0)\n",
      "Requirement already satisfied: dash-table>=4.1.0 in /Users/jeahyukjeong/Library/Python/3.9/lib/python/site-packages (from interpret-core[dash,debug,linear,notebook,plotly,sensitivity,shap]==0.6.2->interpret>=0.2.7->pycaret[full]) (5.0.0)\n",
      "Requirement already satisfied: dash-cytoscape>=0.1.1 in /Users/jeahyukjeong/Library/Python/3.9/lib/python/site-packages (from interpret-core[dash,debug,linear,notebook,plotly,sensitivity,shap]==0.6.2->interpret>=0.2.7->pycaret[full]) (1.0.2)\n",
      "Requirement already satisfied: gevent>=1.3.6 in /Users/jeahyukjeong/Library/Python/3.9/lib/python/site-packages (from interpret-core[dash,debug,linear,notebook,plotly,sensitivity,shap]==0.6.2->interpret>=0.2.7->pycaret[full]) (24.2.1)\n",
      "Requirement already satisfied: decorator in /Users/jeahyukjeong/Library/Python/3.9/lib/python/site-packages (from ipython>=5.5.0->pycaret[full]) (5.1.1)\n",
      "Requirement already satisfied: jedi>=0.16 in /Users/jeahyukjeong/Library/Python/3.9/lib/python/site-packages (from ipython>=5.5.0->pycaret[full]) (0.19.1)\n",
      "Requirement already satisfied: matplotlib-inline in /Users/jeahyukjeong/Library/Python/3.9/lib/python/site-packages (from ipython>=5.5.0->pycaret[full]) (0.1.7)\n",
      "Requirement already satisfied: prompt-toolkit<3.1.0,>=3.0.41 in /Users/jeahyukjeong/Library/Python/3.9/lib/python/site-packages (from ipython>=5.5.0->pycaret[full]) (3.0.47)\n",
      "Requirement already satisfied: pygments>=2.4.0 in /Users/jeahyukjeong/Library/Python/3.9/lib/python/site-packages (from ipython>=5.5.0->pycaret[full]) (2.18.0)\n",
      "Requirement already satisfied: stack-data in /Users/jeahyukjeong/Library/Python/3.9/lib/python/site-packages (from ipython>=5.5.0->pycaret[full]) (0.6.3)\n",
      "Requirement already satisfied: traitlets>=5 in /Users/jeahyukjeong/Library/Python/3.9/lib/python/site-packages (from ipython>=5.5.0->pycaret[full]) (5.14.3)\n",
      "Requirement already satisfied: exceptiongroup in /Users/jeahyukjeong/Library/Python/3.9/lib/python/site-packages (from ipython>=5.5.0->pycaret[full]) (1.2.2)\n",
      "Requirement already satisfied: pexpect>4.3 in /Users/jeahyukjeong/Library/Python/3.9/lib/python/site-packages (from ipython>=5.5.0->pycaret[full]) (4.9.0)\n",
      "Requirement already satisfied: comm>=0.1.3 in /Users/jeahyukjeong/Library/Python/3.9/lib/python/site-packages (from ipywidgets>=7.6.5->pycaret[full]) (0.2.2)\n",
      "Requirement already satisfied: ipython-genutils~=0.2.0 in /Users/jeahyukjeong/Library/Python/3.9/lib/python/site-packages (from ipywidgets>=7.6.5->pycaret[full]) (0.2.0)\n",
      "Requirement already satisfied: widgetsnbextension~=3.6.8 in /Users/jeahyukjeong/Library/Python/3.9/lib/python/site-packages (from ipywidgets>=7.6.5->pycaret[full]) (3.6.8)\n",
      "Requirement already satisfied: jupyterlab-widgets<3,>=1.0.0 in /Users/jeahyukjeong/Library/Python/3.9/lib/python/site-packages (from ipywidgets>=7.6.5->pycaret[full]) (1.1.9)\n",
      "Requirement already satisfied: contourpy>=1.0.1 in /Users/jeahyukjeong/Library/Python/3.9/lib/python/site-packages (from matplotlib<3.8.0->pycaret[full]) (1.2.1)\n",
      "Requirement already satisfied: cycler>=0.10 in /Users/jeahyukjeong/Library/Python/3.9/lib/python/site-packages (from matplotlib<3.8.0->pycaret[full]) (0.12.1)\n",
      "Requirement already satisfied: fonttools>=4.22.0 in /Users/jeahyukjeong/Library/Python/3.9/lib/python/site-packages (from matplotlib<3.8.0->pycaret[full]) (4.53.1)\n",
      "Requirement already satisfied: kiwisolver>=1.0.1 in /Users/jeahyukjeong/Library/Python/3.9/lib/python/site-packages (from matplotlib<3.8.0->pycaret[full]) (1.4.5)\n",
      "Requirement already satisfied: pyparsing>=2.3.1 in /Users/jeahyukjeong/Library/Python/3.9/lib/python/site-packages (from matplotlib<3.8.0->pycaret[full]) (3.1.2)\n",
      "Requirement already satisfied: python-dateutil>=2.7 in /Users/jeahyukjeong/Library/Python/3.9/lib/python/site-packages (from matplotlib<3.8.0->pycaret[full]) (2.9.0.post0)\n",
      "Requirement already satisfied: mlflow-skinny==2.15.0 in /Users/jeahyukjeong/Library/Python/3.9/lib/python/site-packages (from mlflow>=2.0.0->pycaret[full]) (2.15.0)\n",
      "Requirement already satisfied: alembic!=1.10.0,<2 in /Users/jeahyukjeong/Library/Python/3.9/lib/python/site-packages (from mlflow>=2.0.0->pycaret[full]) (1.13.2)\n",
      "Requirement already satisfied: docker<8,>=4.0.0 in /Users/jeahyukjeong/Library/Python/3.9/lib/python/site-packages (from mlflow>=2.0.0->pycaret[full]) (6.1.3)\n",
      "Requirement already satisfied: graphene<4 in /Users/jeahyukjeong/Library/Python/3.9/lib/python/site-packages (from mlflow>=2.0.0->pycaret[full]) (3.3)\n",
      "Requirement already satisfied: markdown<4,>=3.3 in /Users/jeahyukjeong/Library/Python/3.9/lib/python/site-packages (from mlflow>=2.0.0->pycaret[full]) (3.6)\n",
      "Requirement already satisfied: pyarrow<16,>=4.0.0 in /Users/jeahyukjeong/Library/Python/3.9/lib/python/site-packages (from mlflow>=2.0.0->pycaret[full]) (15.0.2)\n",
      "Requirement already satisfied: querystring-parser<2 in /Users/jeahyukjeong/Library/Python/3.9/lib/python/site-packages (from mlflow>=2.0.0->pycaret[full]) (1.2.4)\n",
      "Requirement already satisfied: sqlalchemy<3,>=1.4.0 in /Users/jeahyukjeong/Library/Python/3.9/lib/python/site-packages (from mlflow>=2.0.0->pycaret[full]) (1.4.53)\n",
      "Requirement already satisfied: gunicorn<23 in /Users/jeahyukjeong/Library/Python/3.9/lib/python/site-packages (from mlflow>=2.0.0->pycaret[full]) (20.1.0)\n",
      "Requirement already satisfied: cachetools<6,>=5.0.0 in /Users/jeahyukjeong/Library/Python/3.9/lib/python/site-packages (from mlflow-skinny==2.15.0->mlflow>=2.0.0->pycaret[full]) (5.4.0)\n",
      "Requirement already satisfied: databricks-sdk<1,>=0.20.0 in /Users/jeahyukjeong/Library/Python/3.9/lib/python/site-packages (from mlflow-skinny==2.15.0->mlflow>=2.0.0->pycaret[full]) (0.29.0)\n",
      "Requirement already satisfied: entrypoints<1 in /Users/jeahyukjeong/Library/Python/3.9/lib/python/site-packages (from mlflow-skinny==2.15.0->mlflow>=2.0.0->pycaret[full]) (0.4)\n",
      "Requirement already satisfied: gitpython<4,>=3.1.9 in /Users/jeahyukjeong/Library/Python/3.9/lib/python/site-packages (from mlflow-skinny==2.15.0->mlflow>=2.0.0->pycaret[full]) (3.1.43)\n",
      "Requirement already satisfied: protobuf<6,>=3.12.0 in /Users/jeahyukjeong/Library/Python/3.9/lib/python/site-packages (from mlflow-skinny==2.15.0->mlflow>=2.0.0->pycaret[full]) (4.25.3)\n",
      "Requirement already satisfied: pytz<2025 in /Users/jeahyukjeong/Library/Python/3.9/lib/python/site-packages (from mlflow-skinny==2.15.0->mlflow>=2.0.0->pycaret[full]) (2022.7.1)\n",
      "Requirement already satisfied: sqlparse<1,>=0.4.0 in /Users/jeahyukjeong/Library/Python/3.9/lib/python/site-packages (from mlflow-skinny==2.15.0->mlflow>=2.0.0->pycaret[full]) (0.5.1)\n",
      "Requirement already satisfied: itsdangerous>=2.0 in /Users/jeahyukjeong/Library/Python/3.9/lib/python/site-packages (from flask->pycaret[full]) (2.2.0)\n",
      "Requirement already satisfied: cryptography>=3.3.1 in /Users/jeahyukjeong/Library/Python/3.9/lib/python/site-packages (from moto<5.0.0->pycaret[full]) (43.0.0)\n",
      "Requirement already satisfied: xmltodict in /Users/jeahyukjeong/Library/Python/3.9/lib/python/site-packages (from moto<5.0.0->pycaret[full]) (0.13.0)\n",
      "Requirement already satisfied: responses>=0.13.0 in /Users/jeahyukjeong/Library/Python/3.9/lib/python/site-packages (from moto<5.0.0->pycaret[full]) (0.25.3)\n",
      "Requirement already satisfied: fastjsonschema>=2.15 in /Users/jeahyukjeong/Library/Python/3.9/lib/python/site-packages (from nbformat>=4.2.0->pycaret[full]) (2.20.0)\n",
      "Requirement already satisfied: jsonschema>=2.6 in /Users/jeahyukjeong/Library/Python/3.9/lib/python/site-packages (from nbformat>=4.2.0->pycaret[full]) (4.23.0)\n",
      "Requirement already satisfied: jupyter-core!=5.0.*,>=4.12 in /Users/jeahyukjeong/Library/Python/3.9/lib/python/site-packages (from nbformat>=4.2.0->pycaret[full]) (5.7.2)\n",
      "Requirement already satisfied: llvmlite<0.42,>=0.41.0dev0 in /Users/jeahyukjeong/Library/Python/3.9/lib/python/site-packages (from numba>=0.55.0->pycaret[full]) (0.41.1)\n",
      "Requirement already satisfied: colorlog in /Users/jeahyukjeong/Library/Python/3.9/lib/python/site-packages (from optuna>=3.0.0->pycaret[full]) (6.8.2)\n",
      "Requirement already satisfied: tzdata>=2022.1 in /Users/jeahyukjeong/Library/Python/3.9/lib/python/site-packages (from pandas<2.2.0->pycaret[full]) (2024.1)\n",
      "Requirement already satisfied: tenacity>=6.2.0 in /Users/jeahyukjeong/Library/Python/3.9/lib/python/site-packages (from plotly>=5.14.0->pycaret[full]) (8.5.0)\n",
      "Requirement already satisfied: tsdownsample>=0.1.3 in /Users/jeahyukjeong/Library/Python/3.9/lib/python/site-packages (from plotly-resampler>=0.8.3.1->pycaret[full]) (0.1.3)\n",
      "Requirement already satisfied: Cython!=0.29.18,!=0.29.31,>=0.29 in /Users/jeahyukjeong/Library/Python/3.9/lib/python/site-packages (from pmdarima>=2.0.4->pycaret[full]) (3.0.10)\n",
      "Requirement already satisfied: setuptools!=50.0.0,>=38.6.0 in /Library/Developer/CommandLineTools/Library/Frameworks/Python3.framework/Versions/3.9/lib/python3.9/site-packages (from pmdarima>=2.0.4->pycaret[full]) (58.0.4)\n",
      "Requirement already satisfied: iniconfig in /Users/jeahyukjeong/Library/Python/3.9/lib/python/site-packages (from pytest<8.0.0->pycaret[full]) (2.0.0)\n",
      "Requirement already satisfied: pluggy<2.0,>=0.12 in /Users/jeahyukjeong/Library/Python/3.9/lib/python/site-packages (from pytest<8.0.0->pycaret[full]) (1.5.0)\n",
      "Requirement already satisfied: tomli>=1.0.0 in /Users/jeahyukjeong/Library/Python/3.9/lib/python/site-packages (from pytest<8.0.0->pycaret[full]) (2.0.1)\n",
      "Requirement already satisfied: filelock in /Users/jeahyukjeong/Library/Python/3.9/lib/python/site-packages (from ray>=1.0.0->ray[tune]>=1.0.0; (python_version != \"3.11\" and platform_system != \"Windows\") and extra == \"full\"->pycaret[full]) (3.15.4)\n",
      "Requirement already satisfied: aiosignal in /Users/jeahyukjeong/Library/Python/3.9/lib/python/site-packages (from ray>=1.0.0->ray[tune]>=1.0.0; (python_version != \"3.11\" and platform_system != \"Windows\") and extra == \"full\"->pycaret[full]) (1.3.1)\n",
      "Requirement already satisfied: frozenlist in /Users/jeahyukjeong/Library/Python/3.9/lib/python/site-packages (from ray>=1.0.0->ray[tune]>=1.0.0; (python_version != \"3.11\" and platform_system != \"Windows\") and extra == \"full\"->pycaret[full]) (1.4.1)\n",
      "Requirement already satisfied: tensorboardX>=1.9 in /Users/jeahyukjeong/Library/Python/3.9/lib/python/site-packages (from ray[tune]>=1.0.0; (python_version != \"3.11\" and platform_system != \"Windows\") and extra == \"full\"->pycaret[full]) (2.6.2.2)\n",
      "Requirement already satisfied: charset-normalizer<4,>=2 in /Users/jeahyukjeong/Library/Python/3.9/lib/python/site-packages (from requests>=2.27.1->pycaret[full]) (3.3.2)\n",
      "Requirement already satisfied: idna<4,>=2.5 in /Users/jeahyukjeong/Library/Python/3.9/lib/python/site-packages (from requests>=2.27.1->pycaret[full]) (3.7)\n",
      "Requirement already satisfied: pyaml>=16.9 in /Users/jeahyukjeong/Library/Python/3.9/lib/python/site-packages (from scikit-optimize>=0.9.0->pycaret[full]) (24.7.0)\n",
      "Requirement already satisfied: slicer==0.0.7 in /Users/jeahyukjeong/Library/Python/3.9/lib/python/site-packages (from shap~=0.44.0->pycaret[full]) (0.0.7)\n",
      "Requirement already satisfied: pynndescent>=0.5 in /Users/jeahyukjeong/Library/Python/3.9/lib/python/site-packages (from umap-learn>=0.5.2->pycaret[full]) (0.5.13)\n",
      "Requirement already satisfied: h11>=0.8 in /Users/jeahyukjeong/Library/Python/3.9/lib/python/site-packages (from uvicorn>=0.17.6->pycaret[full]) (0.14.0)\n",
      "Requirement already satisfied: visions==0.7.5 in /Users/jeahyukjeong/Library/Python/3.9/lib/python/site-packages (from visions[type_image_path]==0.7.5->ydata-profiling>=4.3.1->pycaret[full]) (0.7.5)\n",
      "Requirement already satisfied: htmlmin==0.1.12 in /Users/jeahyukjeong/Library/Python/3.9/lib/python/site-packages (from ydata-profiling>=4.3.1->pycaret[full]) (0.1.12)\n",
      "Requirement already satisfied: phik<0.13,>=0.11.1 in /Users/jeahyukjeong/Library/Python/3.9/lib/python/site-packages (from ydata-profiling>=4.3.1->pycaret[full]) (0.12.4)\n",
      "Requirement already satisfied: seaborn<0.13,>=0.10.1 in /Users/jeahyukjeong/Library/Python/3.9/lib/python/site-packages (from ydata-profiling>=4.3.1->pycaret[full]) (0.12.2)\n",
      "Requirement already satisfied: multimethod<2,>=1.4 in /Users/jeahyukjeong/Library/Python/3.9/lib/python/site-packages (from ydata-profiling>=4.3.1->pycaret[full]) (1.12)\n",
      "Requirement already satisfied: typeguard<5,>=4.1.2 in /Users/jeahyukjeong/Library/Python/3.9/lib/python/site-packages (from ydata-profiling>=4.3.1->pycaret[full]) (4.3.0)\n",
      "Requirement already satisfied: imagehash==4.3.1 in /Users/jeahyukjeong/Library/Python/3.9/lib/python/site-packages (from ydata-profiling>=4.3.1->pycaret[full]) (4.3.1)\n",
      "Requirement already satisfied: wordcloud>=1.9.1 in /Users/jeahyukjeong/Library/Python/3.9/lib/python/site-packages (from ydata-profiling>=4.3.1->pycaret[full]) (1.9.3)\n",
      "Requirement already satisfied: dacite>=1.8 in /Users/jeahyukjeong/Library/Python/3.9/lib/python/site-packages (from ydata-profiling>=4.3.1->pycaret[full]) (1.8.1)\n",
      "Requirement already satisfied: PyWavelets in /Users/jeahyukjeong/Library/Python/3.9/lib/python/site-packages (from imagehash==4.3.1->ydata-profiling>=4.3.1->pycaret[full]) (1.6.0)\n",
      "Requirement already satisfied: attrs>=19.3.0 in /Users/jeahyukjeong/Library/Python/3.9/lib/python/site-packages (from visions==0.7.5->visions[type_image_path]==0.7.5->ydata-profiling>=4.3.1->pycaret[full]) (23.2.0)\n",
      "Requirement already satisfied: tangled-up-in-unicode>=0.0.4 in /Users/jeahyukjeong/Library/Python/3.9/lib/python/site-packages (from visions==0.7.5->visions[type_image_path]==0.7.5->ydata-profiling>=4.3.1->pycaret[full]) (0.2.0)\n",
      "Requirement already satisfied: retrying in /Users/jeahyukjeong/Library/Python/3.9/lib/python/site-packages (from dash[testing]; extra == \"full\"->pycaret[full]) (1.3.4)\n",
      "Requirement already satisfied: nest-asyncio in /Users/jeahyukjeong/Library/Python/3.9/lib/python/site-packages (from dash[testing]; extra == \"full\"->pycaret[full]) (1.6.0)\n",
      "Requirement already satisfied: beautifulsoup4>=4.8.2 in /Users/jeahyukjeong/Library/Python/3.9/lib/python/site-packages (from dash[testing]; extra == \"full\"->pycaret[full]) (4.12.3)\n",
      "Requirement already satisfied: lxml>=4.6.2 in /Users/jeahyukjeong/Library/Python/3.9/lib/python/site-packages (from dash[testing]; extra == \"full\"->pycaret[full]) (5.2.2)\n",
      "Requirement already satisfied: percy>=2.0.2 in /Users/jeahyukjeong/Library/Python/3.9/lib/python/site-packages (from dash[testing]; extra == \"full\"->pycaret[full]) (2.0.2)\n",
      "Requirement already satisfied: selenium<=4.2.0,>=3.141.0 in /Users/jeahyukjeong/Library/Python/3.9/lib/python/site-packages (from dash[testing]; extra == \"full\"->pycaret[full]) (4.2.0)\n",
      "Requirement already satisfied: multiprocess>=0.70.12 in /Users/jeahyukjeong/Library/Python/3.9/lib/python/site-packages (from dash[testing]; extra == \"full\"->pycaret[full]) (0.70.16)\n",
      "Requirement already satisfied: dash-testing-stub>=0.0.2 in /Users/jeahyukjeong/Library/Python/3.9/lib/python/site-packages (from dash[testing]; extra == \"full\"->pycaret[full]) (0.0.2)\n",
      "Requirement already satisfied: starlette<0.38.0,>=0.37.2 in /Users/jeahyukjeong/Library/Python/3.9/lib/python/site-packages (from fastapi->pycaret[full]) (0.37.2)\n",
      "Requirement already satisfied: fastapi-cli>=0.0.2 in /Users/jeahyukjeong/Library/Python/3.9/lib/python/site-packages (from fastapi->pycaret[full]) (0.0.4)\n",
      "Requirement already satisfied: email_validator>=2.0.0 in /Users/jeahyukjeong/Library/Python/3.9/lib/python/site-packages (from fastapi->pycaret[full]) (2.2.0)\n",
      "Requirement already satisfied: Mako in /Users/jeahyukjeong/Library/Python/3.9/lib/python/site-packages (from alembic!=1.10.0,<2->mlflow>=2.0.0->pycaret[full]) (1.3.5)\n",
      "Requirement already satisfied: soupsieve>1.2 in /Users/jeahyukjeong/Library/Python/3.9/lib/python/site-packages (from beautifulsoup4>=4.8.2->dash[testing]; extra == \"full\"->pycaret[full]) (2.5)\n",
      "Requirement already satisfied: cffi>=1.12 in /Users/jeahyukjeong/Library/Python/3.9/lib/python/site-packages (from cryptography>=3.3.1->moto<5.0.0->pycaret[full]) (1.16.0)\n",
      "Requirement already satisfied: dask-expr<1.2,>=1.1 in /Users/jeahyukjeong/Library/Python/3.9/lib/python/site-packages (from dask[dataframe,distributed]>=2023.5.0; extra == \"dask\"->fugue[dask]; extra == \"full\"->pycaret[full]) (1.1.9)\n",
      "Requirement already satisfied: websocket-client>=0.32.0 in /Users/jeahyukjeong/Library/Python/3.9/lib/python/site-packages (from docker<8,>=4.0.0->mlflow>=2.0.0->pycaret[full]) (1.8.0)\n",
      "Requirement already satisfied: colour in /Users/jeahyukjeong/Library/Python/3.9/lib/python/site-packages (from dtreeviz>=2.1->explainerdashboard>=0.3.8->pycaret[full]) (0.1.5)\n",
      "Requirement already satisfied: dnspython>=2.0.0 in /Users/jeahyukjeong/Library/Python/3.9/lib/python/site-packages (from email_validator>=2.0.0->fastapi->pycaret[full]) (2.6.1)\n",
      "Requirement already satisfied: wtforms in /Users/jeahyukjeong/Library/Python/3.9/lib/python/site-packages (from Flask-WTF>=1.1->explainerdashboard>=0.3.8->pycaret[full]) (3.1.2)\n",
      "Requirement already satisfied: antlr4-python3-runtime<4.12 in /Users/jeahyukjeong/Library/Python/3.9/lib/python/site-packages (from fugue-sql-antlr>=0.1.6->fugue~=0.8.0->pycaret[full]) (4.11.1)\n",
      "Requirement already satisfied: graphql-core<3.3,>=3.1 in /Users/jeahyukjeong/Library/Python/3.9/lib/python/site-packages (from graphene<4->mlflow>=2.0.0->pycaret[full]) (3.2.3)\n",
      "Requirement already satisfied: graphql-relay<3.3,>=3.1 in /Users/jeahyukjeong/Library/Python/3.9/lib/python/site-packages (from graphene<4->mlflow>=2.0.0->pycaret[full]) (3.2.0)\n",
      "Requirement already satisfied: aniso8601<10,>=8 in /Users/jeahyukjeong/Library/Python/3.9/lib/python/site-packages (from graphene<4->mlflow>=2.0.0->pycaret[full]) (9.0.1)\n",
      "Requirement already satisfied: anyio in /Users/jeahyukjeong/Library/Python/3.9/lib/python/site-packages (from httpx->gradio>=3.50.2->pycaret[full]) (4.4.0)\n",
      "Requirement already satisfied: httpcore==1.* in /Users/jeahyukjeong/Library/Python/3.9/lib/python/site-packages (from httpx->gradio>=3.50.2->pycaret[full]) (1.0.5)\n",
      "Requirement already satisfied: sniffio in /Users/jeahyukjeong/Library/Python/3.9/lib/python/site-packages (from httpx->gradio>=3.50.2->pycaret[full]) (1.3.1)\n",
      "Requirement already satisfied: appdirs in /Users/jeahyukjeong/Library/Python/3.9/lib/python/site-packages (from iterative-telemetry>=0.0.5->evidently~=0.4.16->pycaret[full]) (1.4.4)\n",
      "Requirement already satisfied: distro in /Users/jeahyukjeong/Library/Python/3.9/lib/python/site-packages (from iterative-telemetry>=0.0.5->evidently~=0.4.16->pycaret[full]) (1.9.0)\n",
      "Requirement already satisfied: parso<0.9.0,>=0.8.3 in /Users/jeahyukjeong/Library/Python/3.9/lib/python/site-packages (from jedi>=0.16->ipython>=5.5.0->pycaret[full]) (0.8.4)\n",
      "Requirement already satisfied: jsonschema-specifications>=2023.03.6 in /Users/jeahyukjeong/Library/Python/3.9/lib/python/site-packages (from jsonschema>=2.6->nbformat>=4.2.0->pycaret[full]) (2023.12.1)\n",
      "Requirement already satisfied: referencing>=0.28.4 in /Users/jeahyukjeong/Library/Python/3.9/lib/python/site-packages (from jsonschema>=2.6->nbformat>=4.2.0->pycaret[full]) (0.35.1)\n",
      "Requirement already satisfied: rpds-py>=0.7.1 in /Users/jeahyukjeong/Library/Python/3.9/lib/python/site-packages (from jsonschema>=2.6->nbformat>=4.2.0->pycaret[full]) (0.19.0)\n",
      "Requirement already satisfied: platformdirs>=2.5 in /Users/jeahyukjeong/Library/Python/3.9/lib/python/site-packages (from jupyter-core!=5.0.*,>=4.12->nbformat>=4.2.0->pycaret[full]) (4.2.2)\n",
      "Requirement already satisfied: ansi2html in /Users/jeahyukjeong/Library/Python/3.9/lib/python/site-packages (from jupyter-dash>=0.4.1->explainerdashboard>=0.3.8->pycaret[full]) (1.9.2)\n",
      "Requirement already satisfied: msgspec>=0.18.2 in /Users/jeahyukjeong/Library/Python/3.9/lib/python/site-packages (from litestar>=2.8.3->evidently~=0.4.16->pycaret[full]) (0.18.6)\n",
      "Requirement already satisfied: multidict>=6.0.2 in /Users/jeahyukjeong/Library/Python/3.9/lib/python/site-packages (from litestar>=2.8.3->evidently~=0.4.16->pycaret[full]) (6.0.5)\n",
      "Requirement already satisfied: polyfactory>=2.6.3 in /Users/jeahyukjeong/Library/Python/3.9/lib/python/site-packages (from litestar>=2.8.3->evidently~=0.4.16->pycaret[full]) (2.16.2)\n",
      "Requirement already satisfied: rich-click in /Users/jeahyukjeong/Library/Python/3.9/lib/python/site-packages (from litestar>=2.8.3->evidently~=0.4.16->pycaret[full]) (1.8.3)\n",
      "Requirement already satisfied: regex>=2021.8.3 in /Users/jeahyukjeong/Library/Python/3.9/lib/python/site-packages (from nltk>=3.6.7->evidently~=0.4.16->pycaret[full]) (2024.7.24)\n",
      "Requirement already satisfied: deprecated>=1.2.6 in /Users/jeahyukjeong/Library/Python/3.9/lib/python/site-packages (from opentelemetry-api>=1.25.0->evidently~=0.4.16->pycaret[full]) (1.2.14)\n",
      "Requirement already satisfied: googleapis-common-protos~=1.52 in /Users/jeahyukjeong/Library/Python/3.9/lib/python/site-packages (from opentelemetry-exporter-otlp-proto-grpc>=1.25.0->evidently~=0.4.16->pycaret[full]) (1.63.2)\n",
      "Requirement already satisfied: grpcio<2.0.0,>=1.0.0 in /Users/jeahyukjeong/Library/Python/3.9/lib/python/site-packages (from opentelemetry-exporter-otlp-proto-grpc>=1.25.0->evidently~=0.4.16->pycaret[full]) (1.65.1)\n",
      "Requirement already satisfied: opentelemetry-exporter-otlp-proto-common==1.26.0 in /Users/jeahyukjeong/Library/Python/3.9/lib/python/site-packages (from opentelemetry-exporter-otlp-proto-grpc>=1.25.0->evidently~=0.4.16->pycaret[full]) (1.26.0)\n",
      "Requirement already satisfied: opentelemetry-semantic-conventions==0.47b0 in /Users/jeahyukjeong/Library/Python/3.9/lib/python/site-packages (from opentelemetry-sdk>=1.25.0->evidently~=0.4.16->pycaret[full]) (0.47b0)\n",
      "Requirement already satisfied: ptyprocess>=0.5 in /Users/jeahyukjeong/Library/Python/3.9/lib/python/site-packages (from pexpect>4.3->ipython>=5.5.0->pycaret[full]) (0.7.0)\n",
      "Requirement already satisfied: wcwidth in /Users/jeahyukjeong/Library/Python/3.9/lib/python/site-packages (from prompt-toolkit<3.1.0,>=3.0.41->ipython>=5.5.0->pycaret[full]) (0.2.13)\n",
      "Requirement already satisfied: markdown-it-py>=2.2.0 in /Users/jeahyukjeong/Library/Python/3.9/lib/python/site-packages (from rich>=13->evidently~=0.4.16->pycaret[full]) (3.0.0)\n",
      "Requirement already satisfied: trio~=0.17 in /Users/jeahyukjeong/Library/Python/3.9/lib/python/site-packages (from selenium<=4.2.0,>=3.141.0->dash[testing]; extra == \"full\"->pycaret[full]) (0.26.0)\n",
      "Requirement already satisfied: trio-websocket~=0.9 in /Users/jeahyukjeong/Library/Python/3.9/lib/python/site-packages (from selenium<=4.2.0,>=3.141.0->dash[testing]; extra == \"full\"->pycaret[full]) (0.11.1)\n",
      "Requirement already satisfied: fs in /Users/jeahyukjeong/Library/Python/3.9/lib/python/site-packages (from triad>=0.9.3->fugue~=0.8.0->pycaret[full]) (2.4.16)\n",
      "Requirement already satisfied: shellingham>=1.3.0 in /Users/jeahyukjeong/Library/Python/3.9/lib/python/site-packages (from typer>=0.3->evidently~=0.4.16->pycaret[full]) (1.5.4)\n",
      "Requirement already satisfied: mypy-extensions>=0.3.0 in /Users/jeahyukjeong/Library/Python/3.9/lib/python/site-packages (from typing-inspect>=0.9.0->evidently~=0.4.16->pycaret[full]) (1.0.0)\n",
      "Requirement already satisfied: httptools>=0.5.0 in /Users/jeahyukjeong/Library/Python/3.9/lib/python/site-packages (from uvicorn[standard]>=0.22.0->evidently~=0.4.16->pycaret[full]) (0.6.1)\n",
      "Requirement already satisfied: python-dotenv>=0.13 in /Users/jeahyukjeong/Library/Python/3.9/lib/python/site-packages (from uvicorn[standard]>=0.22.0->evidently~=0.4.16->pycaret[full]) (1.0.1)\n",
      "Requirement already satisfied: uvloop!=0.15.0,!=0.15.1,>=0.14.0 in /Users/jeahyukjeong/Library/Python/3.9/lib/python/site-packages (from uvicorn[standard]>=0.22.0->evidently~=0.4.16->pycaret[full]) (0.19.0)\n",
      "Requirement already satisfied: watchfiles>=0.13 in /Users/jeahyukjeong/Library/Python/3.9/lib/python/site-packages (from uvicorn[standard]>=0.22.0->evidently~=0.4.16->pycaret[full]) (0.22.0)\n",
      "Requirement already satisfied: notebook>=4.4.1 in /Users/jeahyukjeong/Library/Python/3.9/lib/python/site-packages (from widgetsnbextension~=3.6.8->ipywidgets>=7.6.5->pycaret[full]) (7.2.1)\n",
      "Requirement already satisfied: executing>=1.2.0 in /Users/jeahyukjeong/Library/Python/3.9/lib/python/site-packages (from stack-data->ipython>=5.5.0->pycaret[full]) (2.0.1)\n",
      "Requirement already satisfied: asttokens>=2.1.0 in /Users/jeahyukjeong/Library/Python/3.9/lib/python/site-packages (from stack-data->ipython>=5.5.0->pycaret[full]) (2.4.1)\n",
      "Requirement already satisfied: pure-eval in /Users/jeahyukjeong/Library/Python/3.9/lib/python/site-packages (from stack-data->ipython>=5.5.0->pycaret[full]) (0.2.3)\n",
      "Requirement already satisfied: pycparser in /Users/jeahyukjeong/Library/Python/3.9/lib/python/site-packages (from cffi>=1.12->cryptography>=3.3.1->moto<5.0.0->pycaret[full]) (2.22)\n",
      "Requirement already satisfied: google-auth~=2.0 in /Users/jeahyukjeong/Library/Python/3.9/lib/python/site-packages (from databricks-sdk<1,>=0.20.0->mlflow-skinny==2.15.0->mlflow>=2.0.0->pycaret[full]) (2.32.0)\n",
      "Requirement already satisfied: wrapt<2,>=1.10 in /Users/jeahyukjeong/Library/Python/3.9/lib/python/site-packages (from deprecated>=1.2.6->opentelemetry-api>=1.25.0->evidently~=0.4.16->pycaret[full]) (1.16.0)\n",
      "Requirement already satisfied: zope.event in /Users/jeahyukjeong/Library/Python/3.9/lib/python/site-packages (from gevent>=1.3.6->interpret-core[dash,debug,linear,notebook,plotly,sensitivity,shap]==0.6.2->interpret>=0.2.7->pycaret[full]) (5.0)\n",
      "Requirement already satisfied: zope.interface in /Users/jeahyukjeong/Library/Python/3.9/lib/python/site-packages (from gevent>=1.3.6->interpret-core[dash,debug,linear,notebook,plotly,sensitivity,shap]==0.6.2->interpret>=0.2.7->pycaret[full]) (6.4.post2)\n",
      "Requirement already satisfied: greenlet>=2.0.0 in /Users/jeahyukjeong/Library/Python/3.9/lib/python/site-packages (from gevent>=1.3.6->interpret-core[dash,debug,linear,notebook,plotly,sensitivity,shap]==0.6.2->interpret>=0.2.7->pycaret[full]) (3.0.3)\n",
      "Requirement already satisfied: gitdb<5,>=4.0.1 in /Users/jeahyukjeong/Library/Python/3.9/lib/python/site-packages (from gitpython<4,>=3.1.9->mlflow-skinny==2.15.0->mlflow>=2.0.0->pycaret[full]) (4.0.11)\n",
      "Requirement already satisfied: appnope in /Users/jeahyukjeong/Library/Python/3.9/lib/python/site-packages (from ipykernel>=4.10.0->interpret-core[dash,debug,linear,notebook,plotly,sensitivity,shap]==0.6.2->interpret>=0.2.7->pycaret[full]) (0.1.4)\n",
      "Requirement already satisfied: debugpy>=1.6.5 in /Users/jeahyukjeong/Library/Python/3.9/lib/python/site-packages (from ipykernel>=4.10.0->interpret-core[dash,debug,linear,notebook,plotly,sensitivity,shap]==0.6.2->interpret>=0.2.7->pycaret[full]) (1.8.2)\n",
      "Requirement already satisfied: jupyter-client>=6.1.12 in /Users/jeahyukjeong/Library/Python/3.9/lib/python/site-packages (from ipykernel>=4.10.0->interpret-core[dash,debug,linear,notebook,plotly,sensitivity,shap]==0.6.2->interpret>=0.2.7->pycaret[full]) (8.6.2)\n",
      "Requirement already satisfied: pyzmq>=24 in /Users/jeahyukjeong/Library/Python/3.9/lib/python/site-packages (from ipykernel>=4.10.0->interpret-core[dash,debug,linear,notebook,plotly,sensitivity,shap]==0.6.2->interpret>=0.2.7->pycaret[full]) (26.0.3)\n",
      "Requirement already satisfied: mdurl~=0.1 in /Users/jeahyukjeong/Library/Python/3.9/lib/python/site-packages (from markdown-it-py>=2.2.0->rich>=13->evidently~=0.4.16->pycaret[full]) (0.1.2)\n",
      "Requirement already satisfied: jupyter-server<3,>=2.4.0 in /Users/jeahyukjeong/Library/Python/3.9/lib/python/site-packages (from notebook>=4.4.1->widgetsnbextension~=3.6.8->ipywidgets>=7.6.5->pycaret[full]) (2.13.0)\n",
      "Requirement already satisfied: jupyterlab-server<3,>=2.27.1 in /Users/jeahyukjeong/Library/Python/3.9/lib/python/site-packages (from notebook>=4.4.1->widgetsnbextension~=3.6.8->ipywidgets>=7.6.5->pycaret[full]) (2.27.3)\n",
      "Requirement already satisfied: jupyterlab<4.3,>=4.2.0 in /Users/jeahyukjeong/Library/Python/3.9/lib/python/site-packages (from notebook>=4.4.1->widgetsnbextension~=3.6.8->ipywidgets>=7.6.5->pycaret[full]) (4.2.4)\n",
      "Requirement already satisfied: notebook-shim<0.3,>=0.2 in /Users/jeahyukjeong/Library/Python/3.9/lib/python/site-packages (from notebook>=4.4.1->widgetsnbextension~=3.6.8->ipywidgets>=7.6.5->pycaret[full]) (0.2.4)\n",
      "Requirement already satisfied: faker in /Users/jeahyukjeong/Library/Python/3.9/lib/python/site-packages (from polyfactory>=2.6.3->litestar>=2.8.3->evidently~=0.4.16->pycaret[full]) (26.0.0)\n",
      "Requirement already satisfied: outcome in /Users/jeahyukjeong/Library/Python/3.9/lib/python/site-packages (from trio~=0.17->selenium<=4.2.0,>=3.141.0->dash[testing]; extra == \"full\"->pycaret[full]) (1.3.0.post0)\n",
      "Requirement already satisfied: wsproto>=0.14 in /Users/jeahyukjeong/Library/Python/3.9/lib/python/site-packages (from trio-websocket~=0.9->selenium<=4.2.0,>=3.141.0->dash[testing]; extra == \"full\"->pycaret[full]) (1.2.0)\n",
      "Requirement already satisfied: PySocks!=1.5.7,<2.0,>=1.5.6 in /Users/jeahyukjeong/Library/Python/3.9/lib/python/site-packages (from urllib3[secure,socks]~=1.26->selenium<=4.2.0,>=3.141.0->dash[testing]; extra == \"full\"->pycaret[full]) (1.7.1)\n",
      "Requirement already satisfied: pyOpenSSL>=0.14 in /Users/jeahyukjeong/Library/Python/3.9/lib/python/site-packages (from urllib3[secure,socks]~=1.26->selenium<=4.2.0,>=3.141.0->dash[testing]; extra == \"full\"->pycaret[full]) (24.2.1)\n",
      "Requirement already satisfied: urllib3-secure-extra in /Users/jeahyukjeong/Library/Python/3.9/lib/python/site-packages (from urllib3[secure,socks]~=1.26->selenium<=4.2.0,>=3.141.0->dash[testing]; extra == \"full\"->pycaret[full]) (0.1.0)\n",
      "Requirement already satisfied: smmap<6,>=3.0.1 in /Users/jeahyukjeong/Library/Python/3.9/lib/python/site-packages (from gitdb<5,>=4.0.1->gitpython<4,>=3.1.9->mlflow-skinny==2.15.0->mlflow>=2.0.0->pycaret[full]) (5.0.1)\n",
      "Requirement already satisfied: pyasn1-modules>=0.2.1 in /Users/jeahyukjeong/Library/Python/3.9/lib/python/site-packages (from google-auth~=2.0->databricks-sdk<1,>=0.20.0->mlflow-skinny==2.15.0->mlflow>=2.0.0->pycaret[full]) (0.4.0)\n",
      "Requirement already satisfied: rsa<5,>=3.1.4 in /Users/jeahyukjeong/Library/Python/3.9/lib/python/site-packages (from google-auth~=2.0->databricks-sdk<1,>=0.20.0->mlflow-skinny==2.15.0->mlflow>=2.0.0->pycaret[full]) (4.9)\n",
      "Requirement already satisfied: argon2-cffi in /Users/jeahyukjeong/Library/Python/3.9/lib/python/site-packages (from jupyter-server<3,>=2.4.0->notebook>=4.4.1->widgetsnbextension~=3.6.8->ipywidgets>=7.6.5->pycaret[full]) (23.1.0)\n",
      "Requirement already satisfied: jupyter-events>=0.9.0 in /Users/jeahyukjeong/Library/Python/3.9/lib/python/site-packages (from jupyter-server<3,>=2.4.0->notebook>=4.4.1->widgetsnbextension~=3.6.8->ipywidgets>=7.6.5->pycaret[full]) (0.10.0)\n",
      "Requirement already satisfied: jupyter-server-terminals in /Users/jeahyukjeong/Library/Python/3.9/lib/python/site-packages (from jupyter-server<3,>=2.4.0->notebook>=4.4.1->widgetsnbextension~=3.6.8->ipywidgets>=7.6.5->pycaret[full]) (0.5.3)\n",
      "Requirement already satisfied: nbconvert>=6.4.4 in /Users/jeahyukjeong/Library/Python/3.9/lib/python/site-packages (from jupyter-server<3,>=2.4.0->notebook>=4.4.1->widgetsnbextension~=3.6.8->ipywidgets>=7.6.5->pycaret[full]) (7.16.4)\n",
      "Requirement already satisfied: overrides in /Users/jeahyukjeong/Library/Python/3.9/lib/python/site-packages (from jupyter-server<3,>=2.4.0->notebook>=4.4.1->widgetsnbextension~=3.6.8->ipywidgets>=7.6.5->pycaret[full]) (7.7.0)\n",
      "Requirement already satisfied: prometheus-client in /Users/jeahyukjeong/Library/Python/3.9/lib/python/site-packages (from jupyter-server<3,>=2.4.0->notebook>=4.4.1->widgetsnbextension~=3.6.8->ipywidgets>=7.6.5->pycaret[full]) (0.20.0)\n",
      "Requirement already satisfied: send2trash>=1.8.2 in /Users/jeahyukjeong/Library/Python/3.9/lib/python/site-packages (from jupyter-server<3,>=2.4.0->notebook>=4.4.1->widgetsnbextension~=3.6.8->ipywidgets>=7.6.5->pycaret[full]) (1.8.3)\n",
      "Requirement already satisfied: terminado>=0.8.3 in /Users/jeahyukjeong/Library/Python/3.9/lib/python/site-packages (from jupyter-server<3,>=2.4.0->notebook>=4.4.1->widgetsnbextension~=3.6.8->ipywidgets>=7.6.5->pycaret[full]) (0.18.1)\n",
      "Requirement already satisfied: async-lru>=1.0.0 in /Users/jeahyukjeong/Library/Python/3.9/lib/python/site-packages (from jupyterlab<4.3,>=4.2.0->notebook>=4.4.1->widgetsnbextension~=3.6.8->ipywidgets>=7.6.5->pycaret[full]) (2.0.4)\n",
      "Requirement already satisfied: jupyter-lsp>=2.0.0 in /Users/jeahyukjeong/Library/Python/3.9/lib/python/site-packages (from jupyterlab<4.3,>=4.2.0->notebook>=4.4.1->widgetsnbextension~=3.6.8->ipywidgets>=7.6.5->pycaret[full]) (2.2.5)\n",
      "Requirement already satisfied: babel>=2.10 in /Users/jeahyukjeong/Library/Python/3.9/lib/python/site-packages (from jupyterlab-server<3,>=2.27.1->notebook>=4.4.1->widgetsnbextension~=3.6.8->ipywidgets>=7.6.5->pycaret[full]) (2.15.0)\n",
      "Requirement already satisfied: json5>=0.9.0 in /Users/jeahyukjeong/Library/Python/3.9/lib/python/site-packages (from jupyterlab-server<3,>=2.27.1->notebook>=4.4.1->widgetsnbextension~=3.6.8->ipywidgets>=7.6.5->pycaret[full]) (0.9.25)\n",
      "Requirement already satisfied: python-json-logger>=2.0.4 in /Users/jeahyukjeong/Library/Python/3.9/lib/python/site-packages (from jupyter-events>=0.9.0->jupyter-server<3,>=2.4.0->notebook>=4.4.1->widgetsnbextension~=3.6.8->ipywidgets>=7.6.5->pycaret[full]) (2.0.7)\n",
      "Requirement already satisfied: rfc3339-validator in /Users/jeahyukjeong/Library/Python/3.9/lib/python/site-packages (from jupyter-events>=0.9.0->jupyter-server<3,>=2.4.0->notebook>=4.4.1->widgetsnbextension~=3.6.8->ipywidgets>=7.6.5->pycaret[full]) (0.1.4)\n",
      "Requirement already satisfied: rfc3986-validator>=0.1.1 in /Users/jeahyukjeong/Library/Python/3.9/lib/python/site-packages (from jupyter-events>=0.9.0->jupyter-server<3,>=2.4.0->notebook>=4.4.1->widgetsnbextension~=3.6.8->ipywidgets>=7.6.5->pycaret[full]) (0.1.1)\n",
      "Requirement already satisfied: bleach!=5.0.0 in /Users/jeahyukjeong/Library/Python/3.9/lib/python/site-packages (from nbconvert>=6.4.4->jupyter-server<3,>=2.4.0->notebook>=4.4.1->widgetsnbextension~=3.6.8->ipywidgets>=7.6.5->pycaret[full]) (6.1.0)\n",
      "Requirement already satisfied: defusedxml in /Users/jeahyukjeong/Library/Python/3.9/lib/python/site-packages (from nbconvert>=6.4.4->jupyter-server<3,>=2.4.0->notebook>=4.4.1->widgetsnbextension~=3.6.8->ipywidgets>=7.6.5->pycaret[full]) (0.7.1)\n",
      "Requirement already satisfied: jupyterlab-pygments in /Users/jeahyukjeong/Library/Python/3.9/lib/python/site-packages (from nbconvert>=6.4.4->jupyter-server<3,>=2.4.0->notebook>=4.4.1->widgetsnbextension~=3.6.8->ipywidgets>=7.6.5->pycaret[full]) (0.3.0)\n",
      "Requirement already satisfied: mistune<4,>=2.0.3 in /Users/jeahyukjeong/Library/Python/3.9/lib/python/site-packages (from nbconvert>=6.4.4->jupyter-server<3,>=2.4.0->notebook>=4.4.1->widgetsnbextension~=3.6.8->ipywidgets>=7.6.5->pycaret[full]) (3.0.2)\n",
      "Requirement already satisfied: nbclient>=0.5.0 in /Users/jeahyukjeong/Library/Python/3.9/lib/python/site-packages (from nbconvert>=6.4.4->jupyter-server<3,>=2.4.0->notebook>=4.4.1->widgetsnbextension~=3.6.8->ipywidgets>=7.6.5->pycaret[full]) (0.10.0)\n",
      "Requirement already satisfied: pandocfilters>=1.4.1 in /Users/jeahyukjeong/Library/Python/3.9/lib/python/site-packages (from nbconvert>=6.4.4->jupyter-server<3,>=2.4.0->notebook>=4.4.1->widgetsnbextension~=3.6.8->ipywidgets>=7.6.5->pycaret[full]) (1.5.1)\n",
      "Requirement already satisfied: tinycss2 in /Users/jeahyukjeong/Library/Python/3.9/lib/python/site-packages (from nbconvert>=6.4.4->jupyter-server<3,>=2.4.0->notebook>=4.4.1->widgetsnbextension~=3.6.8->ipywidgets>=7.6.5->pycaret[full]) (1.3.0)\n",
      "Requirement already satisfied: pyasn1<0.7.0,>=0.4.6 in /Users/jeahyukjeong/Library/Python/3.9/lib/python/site-packages (from pyasn1-modules>=0.2.1->google-auth~=2.0->databricks-sdk<1,>=0.20.0->mlflow-skinny==2.15.0->mlflow>=2.0.0->pycaret[full]) (0.6.0)\n",
      "Requirement already satisfied: argon2-cffi-bindings in /Users/jeahyukjeong/Library/Python/3.9/lib/python/site-packages (from argon2-cffi->jupyter-server<3,>=2.4.0->notebook>=4.4.1->widgetsnbextension~=3.6.8->ipywidgets>=7.6.5->pycaret[full]) (21.2.0)\n",
      "Requirement already satisfied: webencodings in /Users/jeahyukjeong/Library/Python/3.9/lib/python/site-packages (from bleach!=5.0.0->nbconvert>=6.4.4->jupyter-server<3,>=2.4.0->notebook>=4.4.1->widgetsnbextension~=3.6.8->ipywidgets>=7.6.5->pycaret[full]) (0.5.1)\n",
      "Requirement already satisfied: fqdn in /Users/jeahyukjeong/Library/Python/3.9/lib/python/site-packages (from jsonschema[format-nongpl]>=4.18.0->jupyter-events>=0.9.0->jupyter-server<3,>=2.4.0->notebook>=4.4.1->widgetsnbextension~=3.6.8->ipywidgets>=7.6.5->pycaret[full]) (1.5.1)\n",
      "Requirement already satisfied: isoduration in /Users/jeahyukjeong/Library/Python/3.9/lib/python/site-packages (from jsonschema[format-nongpl]>=4.18.0->jupyter-events>=0.9.0->jupyter-server<3,>=2.4.0->notebook>=4.4.1->widgetsnbextension~=3.6.8->ipywidgets>=7.6.5->pycaret[full]) (20.11.0)\n",
      "Requirement already satisfied: jsonpointer>1.13 in /Users/jeahyukjeong/Library/Python/3.9/lib/python/site-packages (from jsonschema[format-nongpl]>=4.18.0->jupyter-events>=0.9.0->jupyter-server<3,>=2.4.0->notebook>=4.4.1->widgetsnbextension~=3.6.8->ipywidgets>=7.6.5->pycaret[full]) (3.0.0)\n",
      "Requirement already satisfied: uri-template in /Users/jeahyukjeong/Library/Python/3.9/lib/python/site-packages (from jsonschema[format-nongpl]>=4.18.0->jupyter-events>=0.9.0->jupyter-server<3,>=2.4.0->notebook>=4.4.1->widgetsnbextension~=3.6.8->ipywidgets>=7.6.5->pycaret[full]) (1.3.0)\n",
      "Requirement already satisfied: webcolors>=24.6.0 in /Users/jeahyukjeong/Library/Python/3.9/lib/python/site-packages (from jsonschema[format-nongpl]>=4.18.0->jupyter-events>=0.9.0->jupyter-server<3,>=2.4.0->notebook>=4.4.1->widgetsnbextension~=3.6.8->ipywidgets>=7.6.5->pycaret[full]) (24.6.0)\n",
      "Requirement already satisfied: arrow>=0.15.0 in /Users/jeahyukjeong/Library/Python/3.9/lib/python/site-packages (from isoduration->jsonschema[format-nongpl]>=4.18.0->jupyter-events>=0.9.0->jupyter-server<3,>=2.4.0->notebook>=4.4.1->widgetsnbextension~=3.6.8->ipywidgets>=7.6.5->pycaret[full]) (1.3.0)\n",
      "Requirement already satisfied: types-python-dateutil>=2.8.10 in /Users/jeahyukjeong/Library/Python/3.9/lib/python/site-packages (from arrow>=0.15.0->isoduration->jsonschema[format-nongpl]>=4.18.0->jupyter-events>=0.9.0->jupyter-server<3,>=2.4.0->notebook>=4.4.1->widgetsnbextension~=3.6.8->ipywidgets>=7.6.5->pycaret[full]) (2.9.0.20240316)\n",
      "Defaulting to user installation because normal site-packages is not writeable\n",
      "Requirement already satisfied: pycaret[tuners] in /Users/jeahyukjeong/Library/Python/3.9/lib/python/site-packages (3.3.2)\n",
      "Requirement already satisfied: ipython>=5.5.0 in /Users/jeahyukjeong/Library/Python/3.9/lib/python/site-packages (from pycaret[tuners]) (8.18.1)\n",
      "Requirement already satisfied: ipywidgets>=7.6.5 in /Users/jeahyukjeong/Library/Python/3.9/lib/python/site-packages (from pycaret[tuners]) (7.8.3)\n",
      "Requirement already satisfied: tqdm>=4.62.0 in /Users/jeahyukjeong/Library/Python/3.9/lib/python/site-packages (from pycaret[tuners]) (4.66.4)\n",
      "Requirement already satisfied: numpy<1.27,>=1.21 in /Users/jeahyukjeong/Library/Python/3.9/lib/python/site-packages (from pycaret[tuners]) (1.23.5)\n",
      "Requirement already satisfied: pandas<2.2.0 in /Users/jeahyukjeong/Library/Python/3.9/lib/python/site-packages (from pycaret[tuners]) (2.0.3)\n",
      "Requirement already satisfied: jinja2>=3 in /Users/jeahyukjeong/Library/Python/3.9/lib/python/site-packages (from pycaret[tuners]) (3.1.4)\n",
      "Requirement already satisfied: scipy<=1.11.4,>=1.6.1 in /Users/jeahyukjeong/Library/Python/3.9/lib/python/site-packages (from pycaret[tuners]) (1.10.1)\n",
      "Requirement already satisfied: joblib<1.4,>=1.2.0 in /Users/jeahyukjeong/Library/Python/3.9/lib/python/site-packages (from pycaret[tuners]) (1.3.2)\n",
      "Requirement already satisfied: scikit-learn>1.4.0 in /Users/jeahyukjeong/Library/Python/3.9/lib/python/site-packages (from pycaret[tuners]) (1.4.2)\n",
      "Requirement already satisfied: pyod>=1.1.3 in /Users/jeahyukjeong/Library/Python/3.9/lib/python/site-packages (from pycaret[tuners]) (2.0.1)\n",
      "Requirement already satisfied: imbalanced-learn>=0.12.0 in /Users/jeahyukjeong/Library/Python/3.9/lib/python/site-packages (from pycaret[tuners]) (0.12.3)\n",
      "Requirement already satisfied: category-encoders>=2.4.0 in /Users/jeahyukjeong/Library/Python/3.9/lib/python/site-packages (from pycaret[tuners]) (2.6.3)\n",
      "Requirement already satisfied: lightgbm>=3.0.0 in /Users/jeahyukjeong/Library/Python/3.9/lib/python/site-packages (from pycaret[tuners]) (4.4.0)\n",
      "Requirement already satisfied: numba>=0.55.0 in /Users/jeahyukjeong/Library/Python/3.9/lib/python/site-packages (from pycaret[tuners]) (0.58.1)\n",
      "Requirement already satisfied: requests>=2.27.1 in /Users/jeahyukjeong/Library/Python/3.9/lib/python/site-packages (from pycaret[tuners]) (2.32.3)\n",
      "Requirement already satisfied: psutil>=5.9.0 in /Users/jeahyukjeong/Library/Python/3.9/lib/python/site-packages (from pycaret[tuners]) (6.0.0)\n",
      "Requirement already satisfied: markupsafe>=2.0.1 in /Users/jeahyukjeong/Library/Python/3.9/lib/python/site-packages (from pycaret[tuners]) (2.1.5)\n",
      "Requirement already satisfied: importlib-metadata>=4.12.0 in /Users/jeahyukjeong/Library/Python/3.9/lib/python/site-packages (from pycaret[tuners]) (7.2.1)\n",
      "Requirement already satisfied: nbformat>=4.2.0 in /Users/jeahyukjeong/Library/Python/3.9/lib/python/site-packages (from pycaret[tuners]) (5.10.4)\n",
      "Requirement already satisfied: cloudpickle in /Users/jeahyukjeong/Library/Python/3.9/lib/python/site-packages (from pycaret[tuners]) (2.2.1)\n",
      "Requirement already satisfied: deprecation>=2.1.0 in /Users/jeahyukjeong/Library/Python/3.9/lib/python/site-packages (from pycaret[tuners]) (2.1.0)\n",
      "Requirement already satisfied: xxhash in /Users/jeahyukjeong/Library/Python/3.9/lib/python/site-packages (from pycaret[tuners]) (3.4.1)\n",
      "Requirement already satisfied: matplotlib<3.8.0 in /Users/jeahyukjeong/Library/Python/3.9/lib/python/site-packages (from pycaret[tuners]) (3.7.3)\n",
      "Requirement already satisfied: scikit-plot>=0.3.7 in /Users/jeahyukjeong/Library/Python/3.9/lib/python/site-packages (from pycaret[tuners]) (0.3.7)\n",
      "Requirement already satisfied: yellowbrick>=1.4 in /Users/jeahyukjeong/Library/Python/3.9/lib/python/site-packages (from pycaret[tuners]) (1.5)\n",
      "Requirement already satisfied: plotly>=5.14.0 in /Users/jeahyukjeong/Library/Python/3.9/lib/python/site-packages (from pycaret[tuners]) (5.23.0)\n",
      "Requirement already satisfied: kaleido>=0.2.1 in /Users/jeahyukjeong/Library/Python/3.9/lib/python/site-packages (from pycaret[tuners]) (0.2.1)\n",
      "Requirement already satisfied: schemdraw==0.15 in /Users/jeahyukjeong/Library/Python/3.9/lib/python/site-packages (from pycaret[tuners]) (0.15)\n",
      "Requirement already satisfied: plotly-resampler>=0.8.3.1 in /Users/jeahyukjeong/Library/Python/3.9/lib/python/site-packages (from pycaret[tuners]) (0.10.0)\n",
      "Requirement already satisfied: statsmodels>=0.12.1 in /Users/jeahyukjeong/Library/Python/3.9/lib/python/site-packages (from pycaret[tuners]) (0.14.2)\n",
      "Requirement already satisfied: sktime==0.26.0 in /Users/jeahyukjeong/Library/Python/3.9/lib/python/site-packages (from pycaret[tuners]) (0.26.0)\n",
      "Requirement already satisfied: tbats>=1.1.3 in /Users/jeahyukjeong/Library/Python/3.9/lib/python/site-packages (from pycaret[tuners]) (1.1.3)\n",
      "Requirement already satisfied: pmdarima>=2.0.4 in /Users/jeahyukjeong/Library/Python/3.9/lib/python/site-packages (from pycaret[tuners]) (2.0.4)\n",
      "Requirement already satisfied: wurlitzer in /Users/jeahyukjeong/Library/Python/3.9/lib/python/site-packages (from pycaret[tuners]) (3.1.1)\n",
      "Requirement already satisfied: hyperopt>=0.2.7 in /Users/jeahyukjeong/Library/Python/3.9/lib/python/site-packages (from pycaret[tuners]) (0.2.7)\n",
      "Requirement already satisfied: optuna>=3.0.0 in /Users/jeahyukjeong/Library/Python/3.9/lib/python/site-packages (from pycaret[tuners]) (3.6.1)\n",
      "Requirement already satisfied: optuna-integration in /Users/jeahyukjeong/Library/Python/3.9/lib/python/site-packages (from pycaret[tuners]) (3.6.0)\n",
      "Requirement already satisfied: scikit-optimize>=0.9.0 in /Users/jeahyukjeong/Library/Python/3.9/lib/python/site-packages (from pycaret[tuners]) (0.10.2)\n",
      "Requirement already satisfied: tune-sklearn>=0.2.1 in /Users/jeahyukjeong/Library/Python/3.9/lib/python/site-packages (from pycaret[tuners]) (0.5.0)\n",
      "Requirement already satisfied: ray>=1.0.0 in /Users/jeahyukjeong/Library/Python/3.9/lib/python/site-packages (from ray[tune]>=1.0.0; (python_version != \"3.11\" and platform_system != \"Windows\") and extra == \"tuners\"->pycaret[tuners]) (2.33.0)\n",
      "Requirement already satisfied: packaging in /Users/jeahyukjeong/Library/Python/3.9/lib/python/site-packages (from sktime==0.26.0->pycaret[tuners]) (21.3)\n",
      "Requirement already satisfied: scikit-base<0.8.0 in /Users/jeahyukjeong/Library/Python/3.9/lib/python/site-packages (from sktime==0.26.0->pycaret[tuners]) (0.7.8)\n",
      "Requirement already satisfied: patsy>=0.5.1 in /Users/jeahyukjeong/Library/Python/3.9/lib/python/site-packages (from category-encoders>=2.4.0->pycaret[tuners]) (0.5.6)\n",
      "Requirement already satisfied: six in /Users/jeahyukjeong/Library/Python/3.9/lib/python/site-packages (from hyperopt>=0.2.7->pycaret[tuners]) (1.16.0)\n",
      "Requirement already satisfied: networkx>=2.2 in /Users/jeahyukjeong/Library/Python/3.9/lib/python/site-packages (from hyperopt>=0.2.7->pycaret[tuners]) (3.2.1)\n",
      "Requirement already satisfied: future in /Library/Developer/CommandLineTools/Library/Frameworks/Python3.framework/Versions/3.9/lib/python3.9/site-packages (from hyperopt>=0.2.7->pycaret[tuners]) (0.18.2)\n",
      "Requirement already satisfied: py4j in /Users/jeahyukjeong/Library/Python/3.9/lib/python/site-packages (from hyperopt>=0.2.7->pycaret[tuners]) (0.10.9.7)\n",
      "Requirement already satisfied: threadpoolctl>=2.0.0 in /Users/jeahyukjeong/Library/Python/3.9/lib/python/site-packages (from imbalanced-learn>=0.12.0->pycaret[tuners]) (3.5.0)\n",
      "Requirement already satisfied: zipp>=0.5 in /Users/jeahyukjeong/Library/Python/3.9/lib/python/site-packages (from importlib-metadata>=4.12.0->pycaret[tuners]) (3.19.2)\n",
      "Requirement already satisfied: decorator in /Users/jeahyukjeong/Library/Python/3.9/lib/python/site-packages (from ipython>=5.5.0->pycaret[tuners]) (5.1.1)\n",
      "Requirement already satisfied: jedi>=0.16 in /Users/jeahyukjeong/Library/Python/3.9/lib/python/site-packages (from ipython>=5.5.0->pycaret[tuners]) (0.19.1)\n",
      "Requirement already satisfied: matplotlib-inline in /Users/jeahyukjeong/Library/Python/3.9/lib/python/site-packages (from ipython>=5.5.0->pycaret[tuners]) (0.1.7)\n",
      "Requirement already satisfied: prompt-toolkit<3.1.0,>=3.0.41 in /Users/jeahyukjeong/Library/Python/3.9/lib/python/site-packages (from ipython>=5.5.0->pycaret[tuners]) (3.0.47)\n",
      "Requirement already satisfied: pygments>=2.4.0 in /Users/jeahyukjeong/Library/Python/3.9/lib/python/site-packages (from ipython>=5.5.0->pycaret[tuners]) (2.18.0)\n",
      "Requirement already satisfied: stack-data in /Users/jeahyukjeong/Library/Python/3.9/lib/python/site-packages (from ipython>=5.5.0->pycaret[tuners]) (0.6.3)\n",
      "Requirement already satisfied: traitlets>=5 in /Users/jeahyukjeong/Library/Python/3.9/lib/python/site-packages (from ipython>=5.5.0->pycaret[tuners]) (5.14.3)\n",
      "Requirement already satisfied: typing-extensions in /Users/jeahyukjeong/Library/Python/3.9/lib/python/site-packages (from ipython>=5.5.0->pycaret[tuners]) (4.12.2)\n",
      "Requirement already satisfied: exceptiongroup in /Users/jeahyukjeong/Library/Python/3.9/lib/python/site-packages (from ipython>=5.5.0->pycaret[tuners]) (1.2.2)\n",
      "Requirement already satisfied: pexpect>4.3 in /Users/jeahyukjeong/Library/Python/3.9/lib/python/site-packages (from ipython>=5.5.0->pycaret[tuners]) (4.9.0)\n",
      "Requirement already satisfied: comm>=0.1.3 in /Users/jeahyukjeong/Library/Python/3.9/lib/python/site-packages (from ipywidgets>=7.6.5->pycaret[tuners]) (0.2.2)\n",
      "Requirement already satisfied: ipython-genutils~=0.2.0 in /Users/jeahyukjeong/Library/Python/3.9/lib/python/site-packages (from ipywidgets>=7.6.5->pycaret[tuners]) (0.2.0)\n",
      "Requirement already satisfied: widgetsnbextension~=3.6.8 in /Users/jeahyukjeong/Library/Python/3.9/lib/python/site-packages (from ipywidgets>=7.6.5->pycaret[tuners]) (3.6.8)\n",
      "Requirement already satisfied: jupyterlab-widgets<3,>=1.0.0 in /Users/jeahyukjeong/Library/Python/3.9/lib/python/site-packages (from ipywidgets>=7.6.5->pycaret[tuners]) (1.1.9)\n",
      "Requirement already satisfied: contourpy>=1.0.1 in /Users/jeahyukjeong/Library/Python/3.9/lib/python/site-packages (from matplotlib<3.8.0->pycaret[tuners]) (1.2.1)\n",
      "Requirement already satisfied: cycler>=0.10 in /Users/jeahyukjeong/Library/Python/3.9/lib/python/site-packages (from matplotlib<3.8.0->pycaret[tuners]) (0.12.1)\n",
      "Requirement already satisfied: fonttools>=4.22.0 in /Users/jeahyukjeong/Library/Python/3.9/lib/python/site-packages (from matplotlib<3.8.0->pycaret[tuners]) (4.53.1)\n",
      "Requirement already satisfied: kiwisolver>=1.0.1 in /Users/jeahyukjeong/Library/Python/3.9/lib/python/site-packages (from matplotlib<3.8.0->pycaret[tuners]) (1.4.5)\n",
      "Requirement already satisfied: pillow>=6.2.0 in /Users/jeahyukjeong/Library/Python/3.9/lib/python/site-packages (from matplotlib<3.8.0->pycaret[tuners]) (10.4.0)\n",
      "Requirement already satisfied: pyparsing>=2.3.1 in /Users/jeahyukjeong/Library/Python/3.9/lib/python/site-packages (from matplotlib<3.8.0->pycaret[tuners]) (3.1.2)\n",
      "Requirement already satisfied: python-dateutil>=2.7 in /Users/jeahyukjeong/Library/Python/3.9/lib/python/site-packages (from matplotlib<3.8.0->pycaret[tuners]) (2.9.0.post0)\n",
      "Requirement already satisfied: importlib-resources>=3.2.0 in /Users/jeahyukjeong/Library/Python/3.9/lib/python/site-packages (from matplotlib<3.8.0->pycaret[tuners]) (6.4.0)\n",
      "Requirement already satisfied: fastjsonschema>=2.15 in /Users/jeahyukjeong/Library/Python/3.9/lib/python/site-packages (from nbformat>=4.2.0->pycaret[tuners]) (2.20.0)\n",
      "Requirement already satisfied: jsonschema>=2.6 in /Users/jeahyukjeong/Library/Python/3.9/lib/python/site-packages (from nbformat>=4.2.0->pycaret[tuners]) (4.23.0)\n",
      "Requirement already satisfied: jupyter-core!=5.0.*,>=4.12 in /Users/jeahyukjeong/Library/Python/3.9/lib/python/site-packages (from nbformat>=4.2.0->pycaret[tuners]) (5.7.2)\n",
      "Requirement already satisfied: llvmlite<0.42,>=0.41.0dev0 in /Users/jeahyukjeong/Library/Python/3.9/lib/python/site-packages (from numba>=0.55.0->pycaret[tuners]) (0.41.1)\n",
      "Requirement already satisfied: alembic>=1.5.0 in /Users/jeahyukjeong/Library/Python/3.9/lib/python/site-packages (from optuna>=3.0.0->pycaret[tuners]) (1.13.2)\n",
      "Requirement already satisfied: colorlog in /Users/jeahyukjeong/Library/Python/3.9/lib/python/site-packages (from optuna>=3.0.0->pycaret[tuners]) (6.8.2)\n",
      "Requirement already satisfied: sqlalchemy>=1.3.0 in /Users/jeahyukjeong/Library/Python/3.9/lib/python/site-packages (from optuna>=3.0.0->pycaret[tuners]) (1.4.53)\n",
      "Requirement already satisfied: PyYAML in /Users/jeahyukjeong/Library/Python/3.9/lib/python/site-packages (from optuna>=3.0.0->pycaret[tuners]) (6.0.1)\n",
      "Requirement already satisfied: pytz>=2020.1 in /Users/jeahyukjeong/Library/Python/3.9/lib/python/site-packages (from pandas<2.2.0->pycaret[tuners]) (2022.7.1)\n",
      "Requirement already satisfied: tzdata>=2022.1 in /Users/jeahyukjeong/Library/Python/3.9/lib/python/site-packages (from pandas<2.2.0->pycaret[tuners]) (2024.1)\n",
      "Requirement already satisfied: tenacity>=6.2.0 in /Users/jeahyukjeong/Library/Python/3.9/lib/python/site-packages (from plotly>=5.14.0->pycaret[tuners]) (8.5.0)\n",
      "Requirement already satisfied: dash>=2.9.0 in /Users/jeahyukjeong/Library/Python/3.9/lib/python/site-packages (from plotly-resampler>=0.8.3.1->pycaret[tuners]) (2.17.1)\n",
      "Requirement already satisfied: orjson<4.0.0,>=3.8.0 in /Users/jeahyukjeong/Library/Python/3.9/lib/python/site-packages (from plotly-resampler>=0.8.3.1->pycaret[tuners]) (3.10.6)\n",
      "Requirement already satisfied: tsdownsample>=0.1.3 in /Users/jeahyukjeong/Library/Python/3.9/lib/python/site-packages (from plotly-resampler>=0.8.3.1->pycaret[tuners]) (0.1.3)\n",
      "Requirement already satisfied: Cython!=0.29.18,!=0.29.31,>=0.29 in /Users/jeahyukjeong/Library/Python/3.9/lib/python/site-packages (from pmdarima>=2.0.4->pycaret[tuners]) (3.0.10)\n",
      "Requirement already satisfied: urllib3 in /Users/jeahyukjeong/Library/Python/3.9/lib/python/site-packages (from pmdarima>=2.0.4->pycaret[tuners]) (1.26.19)\n",
      "Requirement already satisfied: setuptools!=50.0.0,>=38.6.0 in /Library/Developer/CommandLineTools/Library/Frameworks/Python3.framework/Versions/3.9/lib/python3.9/site-packages (from pmdarima>=2.0.4->pycaret[tuners]) (58.0.4)\n",
      "Requirement already satisfied: click>=7.0 in /Users/jeahyukjeong/Library/Python/3.9/lib/python/site-packages (from ray>=1.0.0->ray[tune]>=1.0.0; (python_version != \"3.11\" and platform_system != \"Windows\") and extra == \"tuners\"->pycaret[tuners]) (8.1.7)\n",
      "Requirement already satisfied: filelock in /Users/jeahyukjeong/Library/Python/3.9/lib/python/site-packages (from ray>=1.0.0->ray[tune]>=1.0.0; (python_version != \"3.11\" and platform_system != \"Windows\") and extra == \"tuners\"->pycaret[tuners]) (3.15.4)\n",
      "Requirement already satisfied: msgpack<2.0.0,>=1.0.0 in /Users/jeahyukjeong/Library/Python/3.9/lib/python/site-packages (from ray>=1.0.0->ray[tune]>=1.0.0; (python_version != \"3.11\" and platform_system != \"Windows\") and extra == \"tuners\"->pycaret[tuners]) (1.0.8)\n",
      "Requirement already satisfied: protobuf!=3.19.5,>=3.15.3 in /Users/jeahyukjeong/Library/Python/3.9/lib/python/site-packages (from ray>=1.0.0->ray[tune]>=1.0.0; (python_version != \"3.11\" and platform_system != \"Windows\") and extra == \"tuners\"->pycaret[tuners]) (4.25.3)\n",
      "Requirement already satisfied: aiosignal in /Users/jeahyukjeong/Library/Python/3.9/lib/python/site-packages (from ray>=1.0.0->ray[tune]>=1.0.0; (python_version != \"3.11\" and platform_system != \"Windows\") and extra == \"tuners\"->pycaret[tuners]) (1.3.1)\n",
      "Requirement already satisfied: frozenlist in /Users/jeahyukjeong/Library/Python/3.9/lib/python/site-packages (from ray>=1.0.0->ray[tune]>=1.0.0; (python_version != \"3.11\" and platform_system != \"Windows\") and extra == \"tuners\"->pycaret[tuners]) (1.4.1)\n",
      "Requirement already satisfied: tensorboardX>=1.9 in /Users/jeahyukjeong/Library/Python/3.9/lib/python/site-packages (from ray[tune]>=1.0.0; (python_version != \"3.11\" and platform_system != \"Windows\") and extra == \"tuners\"->pycaret[tuners]) (2.6.2.2)\n",
      "Requirement already satisfied: pyarrow>=6.0.1 in /Users/jeahyukjeong/Library/Python/3.9/lib/python/site-packages (from ray[tune]>=1.0.0; (python_version != \"3.11\" and platform_system != \"Windows\") and extra == \"tuners\"->pycaret[tuners]) (15.0.2)\n",
      "Requirement already satisfied: fsspec in /Users/jeahyukjeong/Library/Python/3.9/lib/python/site-packages (from ray[tune]>=1.0.0; (python_version != \"3.11\" and platform_system != \"Windows\") and extra == \"tuners\"->pycaret[tuners]) (2024.6.1)\n",
      "Requirement already satisfied: charset-normalizer<4,>=2 in /Users/jeahyukjeong/Library/Python/3.9/lib/python/site-packages (from requests>=2.27.1->pycaret[tuners]) (3.3.2)\n",
      "Requirement already satisfied: idna<4,>=2.5 in /Users/jeahyukjeong/Library/Python/3.9/lib/python/site-packages (from requests>=2.27.1->pycaret[tuners]) (3.7)\n",
      "Requirement already satisfied: certifi>=2017.4.17 in /Users/jeahyukjeong/Library/Python/3.9/lib/python/site-packages (from requests>=2.27.1->pycaret[tuners]) (2024.7.4)\n",
      "Requirement already satisfied: pyaml>=16.9 in /Users/jeahyukjeong/Library/Python/3.9/lib/python/site-packages (from scikit-optimize>=0.9.0->pycaret[tuners]) (24.7.0)\n",
      "Requirement already satisfied: Mako in /Users/jeahyukjeong/Library/Python/3.9/lib/python/site-packages (from alembic>=1.5.0->optuna>=3.0.0->pycaret[tuners]) (1.3.5)\n",
      "Requirement already satisfied: Flask<3.1,>=1.0.4 in /Users/jeahyukjeong/Library/Python/3.9/lib/python/site-packages (from dash>=2.9.0->plotly-resampler>=0.8.3.1->pycaret[tuners]) (2.2.3)\n",
      "Requirement already satisfied: Werkzeug<3.1 in /Users/jeahyukjeong/Library/Python/3.9/lib/python/site-packages (from dash>=2.9.0->plotly-resampler>=0.8.3.1->pycaret[tuners]) (2.3.8)\n",
      "Requirement already satisfied: dash-html-components==2.0.0 in /Users/jeahyukjeong/Library/Python/3.9/lib/python/site-packages (from dash>=2.9.0->plotly-resampler>=0.8.3.1->pycaret[tuners]) (2.0.0)\n",
      "Requirement already satisfied: dash-core-components==2.0.0 in /Users/jeahyukjeong/Library/Python/3.9/lib/python/site-packages (from dash>=2.9.0->plotly-resampler>=0.8.3.1->pycaret[tuners]) (2.0.0)\n",
      "Requirement already satisfied: dash-table==5.0.0 in /Users/jeahyukjeong/Library/Python/3.9/lib/python/site-packages (from dash>=2.9.0->plotly-resampler>=0.8.3.1->pycaret[tuners]) (5.0.0)\n",
      "Requirement already satisfied: retrying in /Users/jeahyukjeong/Library/Python/3.9/lib/python/site-packages (from dash>=2.9.0->plotly-resampler>=0.8.3.1->pycaret[tuners]) (1.3.4)\n",
      "Requirement already satisfied: nest-asyncio in /Users/jeahyukjeong/Library/Python/3.9/lib/python/site-packages (from dash>=2.9.0->plotly-resampler>=0.8.3.1->pycaret[tuners]) (1.6.0)\n",
      "Requirement already satisfied: parso<0.9.0,>=0.8.3 in /Users/jeahyukjeong/Library/Python/3.9/lib/python/site-packages (from jedi>=0.16->ipython>=5.5.0->pycaret[tuners]) (0.8.4)\n",
      "Requirement already satisfied: attrs>=22.2.0 in /Users/jeahyukjeong/Library/Python/3.9/lib/python/site-packages (from jsonschema>=2.6->nbformat>=4.2.0->pycaret[tuners]) (23.2.0)\n",
      "Requirement already satisfied: jsonschema-specifications>=2023.03.6 in /Users/jeahyukjeong/Library/Python/3.9/lib/python/site-packages (from jsonschema>=2.6->nbformat>=4.2.0->pycaret[tuners]) (2023.12.1)\n",
      "Requirement already satisfied: referencing>=0.28.4 in /Users/jeahyukjeong/Library/Python/3.9/lib/python/site-packages (from jsonschema>=2.6->nbformat>=4.2.0->pycaret[tuners]) (0.35.1)\n",
      "Requirement already satisfied: rpds-py>=0.7.1 in /Users/jeahyukjeong/Library/Python/3.9/lib/python/site-packages (from jsonschema>=2.6->nbformat>=4.2.0->pycaret[tuners]) (0.19.0)\n",
      "Requirement already satisfied: platformdirs>=2.5 in /Users/jeahyukjeong/Library/Python/3.9/lib/python/site-packages (from jupyter-core!=5.0.*,>=4.12->nbformat>=4.2.0->pycaret[tuners]) (4.2.2)\n",
      "Requirement already satisfied: ptyprocess>=0.5 in /Users/jeahyukjeong/Library/Python/3.9/lib/python/site-packages (from pexpect>4.3->ipython>=5.5.0->pycaret[tuners]) (0.7.0)\n",
      "Requirement already satisfied: wcwidth in /Users/jeahyukjeong/Library/Python/3.9/lib/python/site-packages (from prompt-toolkit<3.1.0,>=3.0.41->ipython>=5.5.0->pycaret[tuners]) (0.2.13)\n",
      "Requirement already satisfied: notebook>=4.4.1 in /Users/jeahyukjeong/Library/Python/3.9/lib/python/site-packages (from widgetsnbextension~=3.6.8->ipywidgets>=7.6.5->pycaret[tuners]) (7.2.1)\n",
      "Requirement already satisfied: executing>=1.2.0 in /Users/jeahyukjeong/Library/Python/3.9/lib/python/site-packages (from stack-data->ipython>=5.5.0->pycaret[tuners]) (2.0.1)\n",
      "Requirement already satisfied: asttokens>=2.1.0 in /Users/jeahyukjeong/Library/Python/3.9/lib/python/site-packages (from stack-data->ipython>=5.5.0->pycaret[tuners]) (2.4.1)\n",
      "Requirement already satisfied: pure-eval in /Users/jeahyukjeong/Library/Python/3.9/lib/python/site-packages (from stack-data->ipython>=5.5.0->pycaret[tuners]) (0.2.3)\n",
      "Requirement already satisfied: itsdangerous>=2.0 in /Users/jeahyukjeong/Library/Python/3.9/lib/python/site-packages (from Flask<3.1,>=1.0.4->dash>=2.9.0->plotly-resampler>=0.8.3.1->pycaret[tuners]) (2.2.0)\n",
      "Requirement already satisfied: jupyter-server<3,>=2.4.0 in /Users/jeahyukjeong/Library/Python/3.9/lib/python/site-packages (from notebook>=4.4.1->widgetsnbextension~=3.6.8->ipywidgets>=7.6.5->pycaret[tuners]) (2.13.0)\n",
      "Requirement already satisfied: jupyterlab-server<3,>=2.27.1 in /Users/jeahyukjeong/Library/Python/3.9/lib/python/site-packages (from notebook>=4.4.1->widgetsnbextension~=3.6.8->ipywidgets>=7.6.5->pycaret[tuners]) (2.27.3)\n",
      "Requirement already satisfied: jupyterlab<4.3,>=4.2.0 in /Users/jeahyukjeong/Library/Python/3.9/lib/python/site-packages (from notebook>=4.4.1->widgetsnbextension~=3.6.8->ipywidgets>=7.6.5->pycaret[tuners]) (4.2.4)\n",
      "Requirement already satisfied: notebook-shim<0.3,>=0.2 in /Users/jeahyukjeong/Library/Python/3.9/lib/python/site-packages (from notebook>=4.4.1->widgetsnbextension~=3.6.8->ipywidgets>=7.6.5->pycaret[tuners]) (0.2.4)\n",
      "Requirement already satisfied: tornado>=6.2.0 in /Users/jeahyukjeong/Library/Python/3.9/lib/python/site-packages (from notebook>=4.4.1->widgetsnbextension~=3.6.8->ipywidgets>=7.6.5->pycaret[tuners]) (6.4.1)\n",
      "Requirement already satisfied: anyio>=3.1.0 in /Users/jeahyukjeong/Library/Python/3.9/lib/python/site-packages (from jupyter-server<3,>=2.4.0->notebook>=4.4.1->widgetsnbextension~=3.6.8->ipywidgets>=7.6.5->pycaret[tuners]) (4.4.0)\n",
      "Requirement already satisfied: argon2-cffi in /Users/jeahyukjeong/Library/Python/3.9/lib/python/site-packages (from jupyter-server<3,>=2.4.0->notebook>=4.4.1->widgetsnbextension~=3.6.8->ipywidgets>=7.6.5->pycaret[tuners]) (23.1.0)\n",
      "Requirement already satisfied: jupyter-client>=7.4.4 in /Users/jeahyukjeong/Library/Python/3.9/lib/python/site-packages (from jupyter-server<3,>=2.4.0->notebook>=4.4.1->widgetsnbextension~=3.6.8->ipywidgets>=7.6.5->pycaret[tuners]) (8.6.2)\n",
      "Requirement already satisfied: jupyter-events>=0.9.0 in /Users/jeahyukjeong/Library/Python/3.9/lib/python/site-packages (from jupyter-server<3,>=2.4.0->notebook>=4.4.1->widgetsnbextension~=3.6.8->ipywidgets>=7.6.5->pycaret[tuners]) (0.10.0)\n",
      "Requirement already satisfied: jupyter-server-terminals in /Users/jeahyukjeong/Library/Python/3.9/lib/python/site-packages (from jupyter-server<3,>=2.4.0->notebook>=4.4.1->widgetsnbextension~=3.6.8->ipywidgets>=7.6.5->pycaret[tuners]) (0.5.3)\n",
      "Requirement already satisfied: nbconvert>=6.4.4 in /Users/jeahyukjeong/Library/Python/3.9/lib/python/site-packages (from jupyter-server<3,>=2.4.0->notebook>=4.4.1->widgetsnbextension~=3.6.8->ipywidgets>=7.6.5->pycaret[tuners]) (7.16.4)\n",
      "Requirement already satisfied: overrides in /Users/jeahyukjeong/Library/Python/3.9/lib/python/site-packages (from jupyter-server<3,>=2.4.0->notebook>=4.4.1->widgetsnbextension~=3.6.8->ipywidgets>=7.6.5->pycaret[tuners]) (7.7.0)\n",
      "Requirement already satisfied: prometheus-client in /Users/jeahyukjeong/Library/Python/3.9/lib/python/site-packages (from jupyter-server<3,>=2.4.0->notebook>=4.4.1->widgetsnbextension~=3.6.8->ipywidgets>=7.6.5->pycaret[tuners]) (0.20.0)\n",
      "Requirement already satisfied: pyzmq>=24 in /Users/jeahyukjeong/Library/Python/3.9/lib/python/site-packages (from jupyter-server<3,>=2.4.0->notebook>=4.4.1->widgetsnbextension~=3.6.8->ipywidgets>=7.6.5->pycaret[tuners]) (26.0.3)\n",
      "Requirement already satisfied: send2trash>=1.8.2 in /Users/jeahyukjeong/Library/Python/3.9/lib/python/site-packages (from jupyter-server<3,>=2.4.0->notebook>=4.4.1->widgetsnbextension~=3.6.8->ipywidgets>=7.6.5->pycaret[tuners]) (1.8.3)\n",
      "Requirement already satisfied: terminado>=0.8.3 in /Users/jeahyukjeong/Library/Python/3.9/lib/python/site-packages (from jupyter-server<3,>=2.4.0->notebook>=4.4.1->widgetsnbextension~=3.6.8->ipywidgets>=7.6.5->pycaret[tuners]) (0.18.1)\n",
      "Requirement already satisfied: websocket-client in /Users/jeahyukjeong/Library/Python/3.9/lib/python/site-packages (from jupyter-server<3,>=2.4.0->notebook>=4.4.1->widgetsnbextension~=3.6.8->ipywidgets>=7.6.5->pycaret[tuners]) (1.8.0)\n",
      "Requirement already satisfied: async-lru>=1.0.0 in /Users/jeahyukjeong/Library/Python/3.9/lib/python/site-packages (from jupyterlab<4.3,>=4.2.0->notebook>=4.4.1->widgetsnbextension~=3.6.8->ipywidgets>=7.6.5->pycaret[tuners]) (2.0.4)\n",
      "Requirement already satisfied: httpx>=0.25.0 in /Users/jeahyukjeong/Library/Python/3.9/lib/python/site-packages (from jupyterlab<4.3,>=4.2.0->notebook>=4.4.1->widgetsnbextension~=3.6.8->ipywidgets>=7.6.5->pycaret[tuners]) (0.27.0)\n",
      "Requirement already satisfied: ipykernel>=6.5.0 in /Users/jeahyukjeong/Library/Python/3.9/lib/python/site-packages (from jupyterlab<4.3,>=4.2.0->notebook>=4.4.1->widgetsnbextension~=3.6.8->ipywidgets>=7.6.5->pycaret[tuners]) (6.29.5)\n",
      "Requirement already satisfied: jupyter-lsp>=2.0.0 in /Users/jeahyukjeong/Library/Python/3.9/lib/python/site-packages (from jupyterlab<4.3,>=4.2.0->notebook>=4.4.1->widgetsnbextension~=3.6.8->ipywidgets>=7.6.5->pycaret[tuners]) (2.2.5)\n",
      "Requirement already satisfied: tomli>=1.2.2 in /Users/jeahyukjeong/Library/Python/3.9/lib/python/site-packages (from jupyterlab<4.3,>=4.2.0->notebook>=4.4.1->widgetsnbextension~=3.6.8->ipywidgets>=7.6.5->pycaret[tuners]) (2.0.1)\n",
      "Requirement already satisfied: babel>=2.10 in /Users/jeahyukjeong/Library/Python/3.9/lib/python/site-packages (from jupyterlab-server<3,>=2.27.1->notebook>=4.4.1->widgetsnbextension~=3.6.8->ipywidgets>=7.6.5->pycaret[tuners]) (2.15.0)\n",
      "Requirement already satisfied: json5>=0.9.0 in /Users/jeahyukjeong/Library/Python/3.9/lib/python/site-packages (from jupyterlab-server<3,>=2.27.1->notebook>=4.4.1->widgetsnbextension~=3.6.8->ipywidgets>=7.6.5->pycaret[tuners]) (0.9.25)\n",
      "Requirement already satisfied: sniffio>=1.1 in /Users/jeahyukjeong/Library/Python/3.9/lib/python/site-packages (from anyio>=3.1.0->jupyter-server<3,>=2.4.0->notebook>=4.4.1->widgetsnbextension~=3.6.8->ipywidgets>=7.6.5->pycaret[tuners]) (1.3.1)\n",
      "Requirement already satisfied: httpcore==1.* in /Users/jeahyukjeong/Library/Python/3.9/lib/python/site-packages (from httpx>=0.25.0->jupyterlab<4.3,>=4.2.0->notebook>=4.4.1->widgetsnbextension~=3.6.8->ipywidgets>=7.6.5->pycaret[tuners]) (1.0.5)\n",
      "Requirement already satisfied: h11<0.15,>=0.13 in /Users/jeahyukjeong/Library/Python/3.9/lib/python/site-packages (from httpcore==1.*->httpx>=0.25.0->jupyterlab<4.3,>=4.2.0->notebook>=4.4.1->widgetsnbextension~=3.6.8->ipywidgets>=7.6.5->pycaret[tuners]) (0.14.0)\n",
      "Requirement already satisfied: appnope in /Users/jeahyukjeong/Library/Python/3.9/lib/python/site-packages (from ipykernel>=6.5.0->jupyterlab<4.3,>=4.2.0->notebook>=4.4.1->widgetsnbextension~=3.6.8->ipywidgets>=7.6.5->pycaret[tuners]) (0.1.4)\n",
      "Requirement already satisfied: debugpy>=1.6.5 in /Users/jeahyukjeong/Library/Python/3.9/lib/python/site-packages (from ipykernel>=6.5.0->jupyterlab<4.3,>=4.2.0->notebook>=4.4.1->widgetsnbextension~=3.6.8->ipywidgets>=7.6.5->pycaret[tuners]) (1.8.2)\n",
      "Requirement already satisfied: python-json-logger>=2.0.4 in /Users/jeahyukjeong/Library/Python/3.9/lib/python/site-packages (from jupyter-events>=0.9.0->jupyter-server<3,>=2.4.0->notebook>=4.4.1->widgetsnbextension~=3.6.8->ipywidgets>=7.6.5->pycaret[tuners]) (2.0.7)\n",
      "Requirement already satisfied: rfc3339-validator in /Users/jeahyukjeong/Library/Python/3.9/lib/python/site-packages (from jupyter-events>=0.9.0->jupyter-server<3,>=2.4.0->notebook>=4.4.1->widgetsnbextension~=3.6.8->ipywidgets>=7.6.5->pycaret[tuners]) (0.1.4)\n",
      "Requirement already satisfied: rfc3986-validator>=0.1.1 in /Users/jeahyukjeong/Library/Python/3.9/lib/python/site-packages (from jupyter-events>=0.9.0->jupyter-server<3,>=2.4.0->notebook>=4.4.1->widgetsnbextension~=3.6.8->ipywidgets>=7.6.5->pycaret[tuners]) (0.1.1)\n",
      "Requirement already satisfied: beautifulsoup4 in /Users/jeahyukjeong/Library/Python/3.9/lib/python/site-packages (from nbconvert>=6.4.4->jupyter-server<3,>=2.4.0->notebook>=4.4.1->widgetsnbextension~=3.6.8->ipywidgets>=7.6.5->pycaret[tuners]) (4.12.3)\n",
      "Requirement already satisfied: bleach!=5.0.0 in /Users/jeahyukjeong/Library/Python/3.9/lib/python/site-packages (from nbconvert>=6.4.4->jupyter-server<3,>=2.4.0->notebook>=4.4.1->widgetsnbextension~=3.6.8->ipywidgets>=7.6.5->pycaret[tuners]) (6.1.0)\n",
      "Requirement already satisfied: defusedxml in /Users/jeahyukjeong/Library/Python/3.9/lib/python/site-packages (from nbconvert>=6.4.4->jupyter-server<3,>=2.4.0->notebook>=4.4.1->widgetsnbextension~=3.6.8->ipywidgets>=7.6.5->pycaret[tuners]) (0.7.1)\n",
      "Requirement already satisfied: jupyterlab-pygments in /Users/jeahyukjeong/Library/Python/3.9/lib/python/site-packages (from nbconvert>=6.4.4->jupyter-server<3,>=2.4.0->notebook>=4.4.1->widgetsnbextension~=3.6.8->ipywidgets>=7.6.5->pycaret[tuners]) (0.3.0)\n",
      "Requirement already satisfied: mistune<4,>=2.0.3 in /Users/jeahyukjeong/Library/Python/3.9/lib/python/site-packages (from nbconvert>=6.4.4->jupyter-server<3,>=2.4.0->notebook>=4.4.1->widgetsnbextension~=3.6.8->ipywidgets>=7.6.5->pycaret[tuners]) (3.0.2)\n",
      "Requirement already satisfied: nbclient>=0.5.0 in /Users/jeahyukjeong/Library/Python/3.9/lib/python/site-packages (from nbconvert>=6.4.4->jupyter-server<3,>=2.4.0->notebook>=4.4.1->widgetsnbextension~=3.6.8->ipywidgets>=7.6.5->pycaret[tuners]) (0.10.0)\n",
      "Requirement already satisfied: pandocfilters>=1.4.1 in /Users/jeahyukjeong/Library/Python/3.9/lib/python/site-packages (from nbconvert>=6.4.4->jupyter-server<3,>=2.4.0->notebook>=4.4.1->widgetsnbextension~=3.6.8->ipywidgets>=7.6.5->pycaret[tuners]) (1.5.1)\n",
      "Requirement already satisfied: tinycss2 in /Users/jeahyukjeong/Library/Python/3.9/lib/python/site-packages (from nbconvert>=6.4.4->jupyter-server<3,>=2.4.0->notebook>=4.4.1->widgetsnbextension~=3.6.8->ipywidgets>=7.6.5->pycaret[tuners]) (1.3.0)\n",
      "Requirement already satisfied: argon2-cffi-bindings in /Users/jeahyukjeong/Library/Python/3.9/lib/python/site-packages (from argon2-cffi->jupyter-server<3,>=2.4.0->notebook>=4.4.1->widgetsnbextension~=3.6.8->ipywidgets>=7.6.5->pycaret[tuners]) (21.2.0)\n",
      "Requirement already satisfied: webencodings in /Users/jeahyukjeong/Library/Python/3.9/lib/python/site-packages (from bleach!=5.0.0->nbconvert>=6.4.4->jupyter-server<3,>=2.4.0->notebook>=4.4.1->widgetsnbextension~=3.6.8->ipywidgets>=7.6.5->pycaret[tuners]) (0.5.1)\n",
      "Requirement already satisfied: fqdn in /Users/jeahyukjeong/Library/Python/3.9/lib/python/site-packages (from jsonschema[format-nongpl]>=4.18.0->jupyter-events>=0.9.0->jupyter-server<3,>=2.4.0->notebook>=4.4.1->widgetsnbextension~=3.6.8->ipywidgets>=7.6.5->pycaret[tuners]) (1.5.1)\n",
      "Requirement already satisfied: isoduration in /Users/jeahyukjeong/Library/Python/3.9/lib/python/site-packages (from jsonschema[format-nongpl]>=4.18.0->jupyter-events>=0.9.0->jupyter-server<3,>=2.4.0->notebook>=4.4.1->widgetsnbextension~=3.6.8->ipywidgets>=7.6.5->pycaret[tuners]) (20.11.0)\n",
      "Requirement already satisfied: jsonpointer>1.13 in /Users/jeahyukjeong/Library/Python/3.9/lib/python/site-packages (from jsonschema[format-nongpl]>=4.18.0->jupyter-events>=0.9.0->jupyter-server<3,>=2.4.0->notebook>=4.4.1->widgetsnbextension~=3.6.8->ipywidgets>=7.6.5->pycaret[tuners]) (3.0.0)\n",
      "Requirement already satisfied: uri-template in /Users/jeahyukjeong/Library/Python/3.9/lib/python/site-packages (from jsonschema[format-nongpl]>=4.18.0->jupyter-events>=0.9.0->jupyter-server<3,>=2.4.0->notebook>=4.4.1->widgetsnbextension~=3.6.8->ipywidgets>=7.6.5->pycaret[tuners]) (1.3.0)\n",
      "Requirement already satisfied: webcolors>=24.6.0 in /Users/jeahyukjeong/Library/Python/3.9/lib/python/site-packages (from jsonschema[format-nongpl]>=4.18.0->jupyter-events>=0.9.0->jupyter-server<3,>=2.4.0->notebook>=4.4.1->widgetsnbextension~=3.6.8->ipywidgets>=7.6.5->pycaret[tuners]) (24.6.0)\n",
      "Requirement already satisfied: cffi>=1.0.1 in /Users/jeahyukjeong/Library/Python/3.9/lib/python/site-packages (from argon2-cffi-bindings->argon2-cffi->jupyter-server<3,>=2.4.0->notebook>=4.4.1->widgetsnbextension~=3.6.8->ipywidgets>=7.6.5->pycaret[tuners]) (1.16.0)\n",
      "Requirement already satisfied: soupsieve>1.2 in /Users/jeahyukjeong/Library/Python/3.9/lib/python/site-packages (from beautifulsoup4->nbconvert>=6.4.4->jupyter-server<3,>=2.4.0->notebook>=4.4.1->widgetsnbextension~=3.6.8->ipywidgets>=7.6.5->pycaret[tuners]) (2.5)\n",
      "Requirement already satisfied: pycparser in /Users/jeahyukjeong/Library/Python/3.9/lib/python/site-packages (from cffi>=1.0.1->argon2-cffi-bindings->argon2-cffi->jupyter-server<3,>=2.4.0->notebook>=4.4.1->widgetsnbextension~=3.6.8->ipywidgets>=7.6.5->pycaret[tuners]) (2.22)\n",
      "Requirement already satisfied: arrow>=0.15.0 in /Users/jeahyukjeong/Library/Python/3.9/lib/python/site-packages (from isoduration->jsonschema[format-nongpl]>=4.18.0->jupyter-events>=0.9.0->jupyter-server<3,>=2.4.0->notebook>=4.4.1->widgetsnbextension~=3.6.8->ipywidgets>=7.6.5->pycaret[tuners]) (1.3.0)\n",
      "Requirement already satisfied: types-python-dateutil>=2.8.10 in /Users/jeahyukjeong/Library/Python/3.9/lib/python/site-packages (from arrow>=0.15.0->isoduration->jsonschema[format-nongpl]>=4.18.0->jupyter-events>=0.9.0->jupyter-server<3,>=2.4.0->notebook>=4.4.1->widgetsnbextension~=3.6.8->ipywidgets>=7.6.5->pycaret[tuners]) (2.9.0.20240316)\n",
      "Defaulting to user installation because normal site-packages is not writeable\n",
      "Requirement already satisfied: xgboost in /Users/jeahyukjeong/Library/Python/3.9/lib/python/site-packages (1.6.2)\n",
      "Requirement already satisfied: numpy in /Users/jeahyukjeong/Library/Python/3.9/lib/python/site-packages (from xgboost) (1.23.5)\n",
      "Requirement already satisfied: scipy in /Users/jeahyukjeong/Library/Python/3.9/lib/python/site-packages (from xgboost) (1.10.1)\n",
      "Defaulting to user installation because normal site-packages is not writeable\n",
      "Requirement already satisfied: scikit-optimize in /Users/jeahyukjeong/Library/Python/3.9/lib/python/site-packages (0.10.2)\n",
      "Requirement already satisfied: joblib>=0.11 in /Users/jeahyukjeong/Library/Python/3.9/lib/python/site-packages (from scikit-optimize) (1.3.2)\n",
      "Requirement already satisfied: pyaml>=16.9 in /Users/jeahyukjeong/Library/Python/3.9/lib/python/site-packages (from scikit-optimize) (24.7.0)\n",
      "Requirement already satisfied: numpy>=1.20.3 in /Users/jeahyukjeong/Library/Python/3.9/lib/python/site-packages (from scikit-optimize) (1.23.5)\n",
      "Requirement already satisfied: scipy>=1.1.0 in /Users/jeahyukjeong/Library/Python/3.9/lib/python/site-packages (from scikit-optimize) (1.10.1)\n",
      "Requirement already satisfied: scikit-learn>=1.0.0 in /Users/jeahyukjeong/Library/Python/3.9/lib/python/site-packages (from scikit-optimize) (1.4.2)\n",
      "Requirement already satisfied: packaging>=21.3 in /Users/jeahyukjeong/Library/Python/3.9/lib/python/site-packages (from scikit-optimize) (21.3)\n",
      "Requirement already satisfied: pyparsing!=3.0.5,>=2.0.2 in /Users/jeahyukjeong/Library/Python/3.9/lib/python/site-packages (from packaging>=21.3->scikit-optimize) (3.1.2)\n",
      "Requirement already satisfied: PyYAML in /Users/jeahyukjeong/Library/Python/3.9/lib/python/site-packages (from pyaml>=16.9->scikit-optimize) (6.0.1)\n",
      "Requirement already satisfied: threadpoolctl>=2.0.0 in /Users/jeahyukjeong/Library/Python/3.9/lib/python/site-packages (from scikit-learn>=1.0.0->scikit-optimize) (3.5.0)\n",
      "Defaulting to user installation because normal site-packages is not writeable\n",
      "Requirement already satisfied: joblib in /Users/jeahyukjeong/Library/Python/3.9/lib/python/site-packages (1.3.2)\n",
      "Defaulting to user installation because normal site-packages is not writeable\n",
      "Requirement already satisfied: ray[tune] in /Users/jeahyukjeong/Library/Python/3.9/lib/python/site-packages (2.33.0)\n",
      "Requirement already satisfied: click>=7.0 in /Users/jeahyukjeong/Library/Python/3.9/lib/python/site-packages (from ray[tune]) (8.1.7)\n",
      "Requirement already satisfied: filelock in /Users/jeahyukjeong/Library/Python/3.9/lib/python/site-packages (from ray[tune]) (3.15.4)\n",
      "Requirement already satisfied: jsonschema in /Users/jeahyukjeong/Library/Python/3.9/lib/python/site-packages (from ray[tune]) (4.23.0)\n",
      "Requirement already satisfied: msgpack<2.0.0,>=1.0.0 in /Users/jeahyukjeong/Library/Python/3.9/lib/python/site-packages (from ray[tune]) (1.0.8)\n",
      "Requirement already satisfied: packaging in /Users/jeahyukjeong/Library/Python/3.9/lib/python/site-packages (from ray[tune]) (21.3)\n",
      "Requirement already satisfied: protobuf!=3.19.5,>=3.15.3 in /Users/jeahyukjeong/Library/Python/3.9/lib/python/site-packages (from ray[tune]) (4.25.3)\n",
      "Requirement already satisfied: pyyaml in /Users/jeahyukjeong/Library/Python/3.9/lib/python/site-packages (from ray[tune]) (6.0.1)\n",
      "Requirement already satisfied: aiosignal in /Users/jeahyukjeong/Library/Python/3.9/lib/python/site-packages (from ray[tune]) (1.3.1)\n",
      "Requirement already satisfied: frozenlist in /Users/jeahyukjeong/Library/Python/3.9/lib/python/site-packages (from ray[tune]) (1.4.1)\n",
      "Requirement already satisfied: requests in /Users/jeahyukjeong/Library/Python/3.9/lib/python/site-packages (from ray[tune]) (2.32.3)\n",
      "Requirement already satisfied: pandas in /Users/jeahyukjeong/Library/Python/3.9/lib/python/site-packages (from ray[tune]) (2.0.3)\n",
      "Requirement already satisfied: tensorboardX>=1.9 in /Users/jeahyukjeong/Library/Python/3.9/lib/python/site-packages (from ray[tune]) (2.6.2.2)\n",
      "Requirement already satisfied: pyarrow>=6.0.1 in /Users/jeahyukjeong/Library/Python/3.9/lib/python/site-packages (from ray[tune]) (15.0.2)\n",
      "Requirement already satisfied: fsspec in /Users/jeahyukjeong/Library/Python/3.9/lib/python/site-packages (from ray[tune]) (2024.6.1)\n",
      "Requirement already satisfied: numpy<2,>=1.16.6 in /Users/jeahyukjeong/Library/Python/3.9/lib/python/site-packages (from pyarrow>=6.0.1->ray[tune]) (1.23.5)\n",
      "Requirement already satisfied: attrs>=22.2.0 in /Users/jeahyukjeong/Library/Python/3.9/lib/python/site-packages (from jsonschema->ray[tune]) (23.2.0)\n",
      "Requirement already satisfied: jsonschema-specifications>=2023.03.6 in /Users/jeahyukjeong/Library/Python/3.9/lib/python/site-packages (from jsonschema->ray[tune]) (2023.12.1)\n",
      "Requirement already satisfied: referencing>=0.28.4 in /Users/jeahyukjeong/Library/Python/3.9/lib/python/site-packages (from jsonschema->ray[tune]) (0.35.1)\n",
      "Requirement already satisfied: rpds-py>=0.7.1 in /Users/jeahyukjeong/Library/Python/3.9/lib/python/site-packages (from jsonschema->ray[tune]) (0.19.0)\n",
      "Requirement already satisfied: pyparsing!=3.0.5,>=2.0.2 in /Users/jeahyukjeong/Library/Python/3.9/lib/python/site-packages (from packaging->ray[tune]) (3.1.2)\n",
      "Requirement already satisfied: python-dateutil>=2.8.2 in /Users/jeahyukjeong/Library/Python/3.9/lib/python/site-packages (from pandas->ray[tune]) (2.9.0.post0)\n",
      "Requirement already satisfied: pytz>=2020.1 in /Users/jeahyukjeong/Library/Python/3.9/lib/python/site-packages (from pandas->ray[tune]) (2022.7.1)\n",
      "Requirement already satisfied: tzdata>=2022.1 in /Users/jeahyukjeong/Library/Python/3.9/lib/python/site-packages (from pandas->ray[tune]) (2024.1)\n",
      "Requirement already satisfied: charset-normalizer<4,>=2 in /Users/jeahyukjeong/Library/Python/3.9/lib/python/site-packages (from requests->ray[tune]) (3.3.2)\n",
      "Requirement already satisfied: idna<4,>=2.5 in /Users/jeahyukjeong/Library/Python/3.9/lib/python/site-packages (from requests->ray[tune]) (3.7)\n",
      "Requirement already satisfied: urllib3<3,>=1.21.1 in /Users/jeahyukjeong/Library/Python/3.9/lib/python/site-packages (from requests->ray[tune]) (1.26.19)\n",
      "Requirement already satisfied: certifi>=2017.4.17 in /Users/jeahyukjeong/Library/Python/3.9/lib/python/site-packages (from requests->ray[tune]) (2024.7.4)\n",
      "Requirement already satisfied: six>=1.5 in /Users/jeahyukjeong/Library/Python/3.9/lib/python/site-packages (from python-dateutil>=2.8.2->pandas->ray[tune]) (1.16.0)\n",
      "Defaulting to user installation because normal site-packages is not writeable\n",
      "Requirement already satisfied: tune[search] in /Users/jeahyukjeong/Library/Python/3.9/lib/python/site-packages (0.1.5)\n",
      "\u001b[33mWARNING: tune 0.1.5 does not provide the extra 'search'\u001b[0m\u001b[33m\n",
      "\u001b[0mRequirement already satisfied: fugue in /Users/jeahyukjeong/Library/Python/3.9/lib/python/site-packages (from tune[search]) (0.8.7)\n",
      "Requirement already satisfied: cloudpickle in /Users/jeahyukjeong/Library/Python/3.9/lib/python/site-packages (from tune[search]) (2.2.1)\n",
      "Requirement already satisfied: triad>=0.8.4 in /Users/jeahyukjeong/Library/Python/3.9/lib/python/site-packages (from tune[search]) (0.9.8)\n",
      "Requirement already satisfied: numpy in /Users/jeahyukjeong/Library/Python/3.9/lib/python/site-packages (from triad>=0.8.4->tune[search]) (1.23.5)\n",
      "Requirement already satisfied: pandas>=1.3.5 in /Users/jeahyukjeong/Library/Python/3.9/lib/python/site-packages (from triad>=0.8.4->tune[search]) (2.0.3)\n",
      "Requirement already satisfied: six in /Users/jeahyukjeong/Library/Python/3.9/lib/python/site-packages (from triad>=0.8.4->tune[search]) (1.16.0)\n",
      "Requirement already satisfied: pyarrow>=6.0.1 in /Users/jeahyukjeong/Library/Python/3.9/lib/python/site-packages (from triad>=0.8.4->tune[search]) (15.0.2)\n",
      "Requirement already satisfied: fsspec>=2022.5.0 in /Users/jeahyukjeong/Library/Python/3.9/lib/python/site-packages (from triad>=0.8.4->tune[search]) (2024.6.1)\n",
      "Requirement already satisfied: fs in /Users/jeahyukjeong/Library/Python/3.9/lib/python/site-packages (from triad>=0.8.4->tune[search]) (2.4.16)\n",
      "Requirement already satisfied: adagio>=0.2.4 in /Users/jeahyukjeong/Library/Python/3.9/lib/python/site-packages (from fugue->tune[search]) (0.2.4)\n",
      "Requirement already satisfied: qpd>=0.4.4 in /Users/jeahyukjeong/Library/Python/3.9/lib/python/site-packages (from fugue->tune[search]) (0.4.4)\n",
      "Requirement already satisfied: fugue-sql-antlr>=0.1.6 in /Users/jeahyukjeong/Library/Python/3.9/lib/python/site-packages (from fugue->tune[search]) (0.2.0)\n",
      "Requirement already satisfied: sqlglot in /Users/jeahyukjeong/Library/Python/3.9/lib/python/site-packages (from fugue->tune[search]) (25.7.1)\n",
      "Requirement already satisfied: jinja2 in /Users/jeahyukjeong/Library/Python/3.9/lib/python/site-packages (from fugue->tune[search]) (3.1.4)\n",
      "Requirement already satisfied: antlr4-python3-runtime<4.12 in /Users/jeahyukjeong/Library/Python/3.9/lib/python/site-packages (from fugue-sql-antlr>=0.1.6->fugue->tune[search]) (4.11.1)\n",
      "Requirement already satisfied: packaging in /Users/jeahyukjeong/Library/Python/3.9/lib/python/site-packages (from fugue-sql-antlr>=0.1.6->fugue->tune[search]) (21.3)\n",
      "Requirement already satisfied: python-dateutil>=2.8.2 in /Users/jeahyukjeong/Library/Python/3.9/lib/python/site-packages (from pandas>=1.3.5->triad>=0.8.4->tune[search]) (2.9.0.post0)\n",
      "Requirement already satisfied: pytz>=2020.1 in /Users/jeahyukjeong/Library/Python/3.9/lib/python/site-packages (from pandas>=1.3.5->triad>=0.8.4->tune[search]) (2022.7.1)\n",
      "Requirement already satisfied: tzdata>=2022.1 in /Users/jeahyukjeong/Library/Python/3.9/lib/python/site-packages (from pandas>=1.3.5->triad>=0.8.4->tune[search]) (2024.1)\n",
      "Requirement already satisfied: appdirs~=1.4.3 in /Users/jeahyukjeong/Library/Python/3.9/lib/python/site-packages (from fs->triad>=0.8.4->tune[search]) (1.4.4)\n",
      "Requirement already satisfied: setuptools in /Library/Developer/CommandLineTools/Library/Frameworks/Python3.framework/Versions/3.9/lib/python3.9/site-packages (from fs->triad>=0.8.4->tune[search]) (58.0.4)\n",
      "Requirement already satisfied: MarkupSafe>=2.0 in /Users/jeahyukjeong/Library/Python/3.9/lib/python/site-packages (from jinja2->fugue->tune[search]) (2.1.5)\n",
      "Requirement already satisfied: pyparsing!=3.0.5,>=2.0.2 in /Users/jeahyukjeong/Library/Python/3.9/lib/python/site-packages (from packaging->fugue-sql-antlr>=0.1.6->fugue->tune[search]) (3.1.2)\n"
     ]
    }
   ],
   "source": [
    "!python3 -m pip install pandas\n",
    "!python3 -m pip install 'pycaret[full]'\n",
    "!python3 -m pip install 'pycaret[tuners]'\n",
    "!python3 -m pip install xgboost\n",
    "!python3 -m pip install scikit-optimize\n",
    "!python3 -m pip install joblib\n",
    "!python3 -m pip install 'ray[tune]'\n",
    "!python3 -m pip install 'tune[search]'\n"
   ]
  },
  {
   "cell_type": "code",
   "execution_count": 11,
   "metadata": {},
   "outputs": [],
   "source": [
    "from pycaret.classification import *\n",
    "import pandas as pd\n",
    "import numpy as np"
   ]
  },
  {
   "cell_type": "markdown",
   "metadata": {},
   "source": [
    "<h2>1. 데이터 로드 및 전처리</h2>"
   ]
  },
  {
   "cell_type": "code",
   "execution_count": 22,
   "metadata": {},
   "outputs": [
    {
     "name": "stdout",
     "output_type": "stream",
     "text": [
      "114 29\n"
     ]
    }
   ],
   "source": [
    "# 1. 데이터 로드\n",
    "\n",
    "data = pd.read_csv('MCHAT.csv')\n",
    "\n",
    "# https://github.com/skwgbobf/ASD_Kaggle/blob/main/4.Kaggle1_%20BERT%20Classification.ipynb\n",
    "\n",
    "# train test 8:2로 나눕니다.\n",
    "np.random.seed(112)\n",
    "train, test = np.split(data.sample(frac=1, random_state=42), \n",
    "                                     [int(.8*len(data))])\n",
    "\n",
    "print(len(train), len(test))"
   ]
  },
  {
   "cell_type": "markdown",
   "metadata": {},
   "source": [
    "<h2>2. 전처리</h2>"
   ]
  },
  {
   "cell_type": "markdown",
   "metadata": {},
   "source": [
    "- categorical data 숫자형으로 변환 + 학습에 관련 없는 칼럼 분리\n",
    "- https://www.kaggle.com/code/santhoshkumarv/autism-xgboost-shap-values/notebook"
   ]
  },
  {
   "cell_type": "code",
   "execution_count": 23,
   "metadata": {},
   "outputs": [],
   "source": [
    "# 2. Preprocess\n",
    "\n",
    "# Categorical Data 숫자형으로 변환\n",
    "\n",
    "# https://www.kaggle.com/code/santhoshkumarv/autism-xgboost-shap-values/notebook\n",
    "from sklearn import preprocessing\n",
    "\n",
    "# 데이터 칼럼 추출\n",
    "cat_cols = list(train.select_dtypes('object').columns.values)\n",
    "\n",
    "# 전처리 과정을 위해서 train과 test 셋들을 잠시 합칩니다.\n",
    "df = pd.concat([train, test], axis=0)\n",
    "\n",
    "# 데이터 타입을 모두 숫자형으로 통일\n",
    "label_encoder = preprocessing.LabelEncoder()\n",
    "for col in cat_cols:\n",
    "    df[col]= label_encoder.fit_transform(df[col])\n",
    "\n",
    "# train test를 다시 8:2로 나눕니다\n",
    "train = df.iloc[:train.shape[0], :]\n",
    "test = df.iloc[train.shape[0]:, :]"
   ]
  },
  {
   "cell_type": "code",
   "execution_count": 24,
   "metadata": {},
   "outputs": [],
   "source": [
    "import enum\n",
    "import random\n",
    "import os\n",
    "\n",
    "# https://www.kaggle.com/code/santhoshkumarv/autism-xgboost-shap-values/notebook\n",
    "\n",
    "# 사용할 시드값 변환 함수\n",
    "def random_seed(seed=42):\n",
    "    random.seed(seed)\n",
    "    np.random.seed(seed)\n",
    "    os.environ['PYTHONHASHSEED'] = str(seed)\n",
    "\n",
    "# 시드값, CV fold 개수, 훈련 조기중단 변수 설정\n",
    "class Config(enum.Enum):\n",
    "    SEED = 42\n",
    "    N_FOLDS = 5\n",
    "    EARLY_STOP = 300\n",
    "\n",
    "random_seed(Config.SEED.value)"
   ]
  },
  {
   "cell_type": "markdown",
   "metadata": {},
   "source": [
    "<h2>3. XGBoost Hypter Parameter 설명 </h2> "
   ]
  },
  {
   "cell_type": "markdown",
   "metadata": {},
   "source": [
    "\n",
    "XGBoost + SHAP (하이퍼 파라미터 사용) <br>\n",
    "https://www.kaggle.com/code/santhoshkumarv/autism-xgboost-shap-values/notebook\n",
    "\n",
    "DMatrix() 사용 불가능 - DMatrix는 모델 학습 속도 상승 효과만 있음 <br>\n",
    "pycaret에서 early stopping method 사용 불가능 / xgboost에서만 가능 - 모델 학습 속도 사응 효과만 있음 <br>\n",
    "https://xgboost.readthedocs.io/en/stable/python/python_api.html\n",
    "\n"
   ]
  },
  {
   "cell_type": "code",
   "execution_count": 25,
   "metadata": {},
   "outputs": [],
   "source": [
    "# https://www.kaggle.com/code/santhoshkumarv/autism-xgboost-shap-values/notebook\n",
    "\n",
    "# xgboost 하이퍼파라미터 세팅\n",
    "xgb_params=  {'n_estimators':10000,\n",
    "              'learning_rate': 0.002,\n",
    "              'objective': 'binary:logistic',\n",
    "              'eval_metric': 'auc',\n",
    "              'max_depth': 10,\n",
    "              'alpha': 0.5108154566815425,\n",
    "              'gamma': 1.9276236172849432,\n",
    "              'reg_lambda': 11.40999855634382,\n",
    "              'colsample_bytree': 0.705851334291963,\n",
    "              'subsample': 0.8386116751473301,\n",
    "              'min_child_weight': 2.5517043283716605,\n",
    "              #'early_stopping_rounds': Config.EARLY_STOP.value, # 학습 도중 모델이 발전이 없을 때 학습을 멈출 수 있게 하는 파라미터들\n",
    "              #'evals' = [(dtrain, 'train'), (deval, 'eval')],   # pycaret에서 사용 불가능 / xgboost에서만 가능\n",
    "              #'verbose_eval': 1000, \n",
    "\n",
    "}"
   ]
  },
  {
   "cell_type": "markdown",
   "metadata": {},
   "source": [
    "<h2> 4. Model definition and Training</h2>"
   ]
  },
  {
   "cell_type": "markdown",
   "metadata": {},
   "source": [
    "Pycaret Classification <br>\n",
    "https://www.kaggle.com/code/venkatkumar001/apc-3-pycaret-identify-best-algo-s/notebook\n",
    "\n",
    "학습 모델: XGBoost <br>\n",
    "evaludation 방식: Stratified K-fold Cross Validation "
   ]
  },
  {
   "cell_type": "code",
   "execution_count": 26,
   "metadata": {},
   "outputs": [
    {
     "data": {
      "text/html": [],
      "text/plain": [
       "<IPython.core.display.HTML object>"
      ]
     },
     "metadata": {},
     "output_type": "display_data"
    },
    {
     "data": {
      "text/html": [
       "<style type=\"text/css\">\n",
       "#T_8c87a_row5_col0, #T_8c87a_row5_col1, #T_8c87a_row5_col2, #T_8c87a_row5_col3, #T_8c87a_row5_col4, #T_8c87a_row5_col5, #T_8c87a_row5_col6 {\n",
       "  background: yellow;\n",
       "}\n",
       "</style>\n",
       "<table id=\"T_8c87a\">\n",
       "  <thead>\n",
       "    <tr>\n",
       "      <th class=\"blank level0\" >&nbsp;</th>\n",
       "      <th id=\"T_8c87a_level0_col0\" class=\"col_heading level0 col0\" >Accuracy</th>\n",
       "      <th id=\"T_8c87a_level0_col1\" class=\"col_heading level0 col1\" >AUC</th>\n",
       "      <th id=\"T_8c87a_level0_col2\" class=\"col_heading level0 col2\" >Recall</th>\n",
       "      <th id=\"T_8c87a_level0_col3\" class=\"col_heading level0 col3\" >Prec.</th>\n",
       "      <th id=\"T_8c87a_level0_col4\" class=\"col_heading level0 col4\" >F1</th>\n",
       "      <th id=\"T_8c87a_level0_col5\" class=\"col_heading level0 col5\" >Kappa</th>\n",
       "      <th id=\"T_8c87a_level0_col6\" class=\"col_heading level0 col6\" >MCC</th>\n",
       "    </tr>\n",
       "    <tr>\n",
       "      <th class=\"index_name level0\" >Fold</th>\n",
       "      <th class=\"blank col0\" >&nbsp;</th>\n",
       "      <th class=\"blank col1\" >&nbsp;</th>\n",
       "      <th class=\"blank col2\" >&nbsp;</th>\n",
       "      <th class=\"blank col3\" >&nbsp;</th>\n",
       "      <th class=\"blank col4\" >&nbsp;</th>\n",
       "      <th class=\"blank col5\" >&nbsp;</th>\n",
       "      <th class=\"blank col6\" >&nbsp;</th>\n",
       "    </tr>\n",
       "  </thead>\n",
       "  <tbody>\n",
       "    <tr>\n",
       "      <th id=\"T_8c87a_level0_row0\" class=\"row_heading level0 row0\" >0</th>\n",
       "      <td id=\"T_8c87a_row0_col0\" class=\"data row0 col0\" >0.7500</td>\n",
       "      <td id=\"T_8c87a_row0_col1\" class=\"data row0 col1\" >0.9062</td>\n",
       "      <td id=\"T_8c87a_row0_col2\" class=\"data row0 col2\" >1.0000</td>\n",
       "      <td id=\"T_8c87a_row0_col3\" class=\"data row0 col3\" >0.7500</td>\n",
       "      <td id=\"T_8c87a_row0_col4\" class=\"data row0 col4\" >0.8571</td>\n",
       "      <td id=\"T_8c87a_row0_col5\" class=\"data row0 col5\" >0.0000</td>\n",
       "      <td id=\"T_8c87a_row0_col6\" class=\"data row0 col6\" >0.0000</td>\n",
       "    </tr>\n",
       "    <tr>\n",
       "      <th id=\"T_8c87a_level0_row1\" class=\"row_heading level0 row1\" >1</th>\n",
       "      <td id=\"T_8c87a_row1_col0\" class=\"data row1 col0\" >0.7500</td>\n",
       "      <td id=\"T_8c87a_row1_col1\" class=\"data row1 col1\" >0.9583</td>\n",
       "      <td id=\"T_8c87a_row1_col2\" class=\"data row1 col2\" >1.0000</td>\n",
       "      <td id=\"T_8c87a_row1_col3\" class=\"data row1 col3\" >0.7500</td>\n",
       "      <td id=\"T_8c87a_row1_col4\" class=\"data row1 col4\" >0.8571</td>\n",
       "      <td id=\"T_8c87a_row1_col5\" class=\"data row1 col5\" >0.0000</td>\n",
       "      <td id=\"T_8c87a_row1_col6\" class=\"data row1 col6\" >0.0000</td>\n",
       "    </tr>\n",
       "    <tr>\n",
       "      <th id=\"T_8c87a_level0_row2\" class=\"row_heading level0 row2\" >2</th>\n",
       "      <td id=\"T_8c87a_row2_col0\" class=\"data row2 col0\" >0.7500</td>\n",
       "      <td id=\"T_8c87a_row2_col1\" class=\"data row2 col1\" >0.7500</td>\n",
       "      <td id=\"T_8c87a_row2_col2\" class=\"data row2 col2\" >1.0000</td>\n",
       "      <td id=\"T_8c87a_row2_col3\" class=\"data row2 col3\" >0.7500</td>\n",
       "      <td id=\"T_8c87a_row2_col4\" class=\"data row2 col4\" >0.8571</td>\n",
       "      <td id=\"T_8c87a_row2_col5\" class=\"data row2 col5\" >0.0000</td>\n",
       "      <td id=\"T_8c87a_row2_col6\" class=\"data row2 col6\" >0.0000</td>\n",
       "    </tr>\n",
       "    <tr>\n",
       "      <th id=\"T_8c87a_level0_row3\" class=\"row_heading level0 row3\" >3</th>\n",
       "      <td id=\"T_8c87a_row3_col0\" class=\"data row3 col0\" >0.7500</td>\n",
       "      <td id=\"T_8c87a_row3_col1\" class=\"data row3 col1\" >0.7500</td>\n",
       "      <td id=\"T_8c87a_row3_col2\" class=\"data row3 col2\" >1.0000</td>\n",
       "      <td id=\"T_8c87a_row3_col3\" class=\"data row3 col3\" >0.7500</td>\n",
       "      <td id=\"T_8c87a_row3_col4\" class=\"data row3 col4\" >0.8571</td>\n",
       "      <td id=\"T_8c87a_row3_col5\" class=\"data row3 col5\" >0.0000</td>\n",
       "      <td id=\"T_8c87a_row3_col6\" class=\"data row3 col6\" >0.0000</td>\n",
       "    </tr>\n",
       "    <tr>\n",
       "      <th id=\"T_8c87a_level0_row4\" class=\"row_heading level0 row4\" >4</th>\n",
       "      <td id=\"T_8c87a_row4_col0\" class=\"data row4 col0\" >0.7333</td>\n",
       "      <td id=\"T_8c87a_row4_col1\" class=\"data row4 col1\" >0.9091</td>\n",
       "      <td id=\"T_8c87a_row4_col2\" class=\"data row4 col2\" >1.0000</td>\n",
       "      <td id=\"T_8c87a_row4_col3\" class=\"data row4 col3\" >0.7333</td>\n",
       "      <td id=\"T_8c87a_row4_col4\" class=\"data row4 col4\" >0.8462</td>\n",
       "      <td id=\"T_8c87a_row4_col5\" class=\"data row4 col5\" >0.0000</td>\n",
       "      <td id=\"T_8c87a_row4_col6\" class=\"data row4 col6\" >0.0000</td>\n",
       "    </tr>\n",
       "    <tr>\n",
       "      <th id=\"T_8c87a_level0_row5\" class=\"row_heading level0 row5\" >Mean</th>\n",
       "      <td id=\"T_8c87a_row5_col0\" class=\"data row5 col0\" >0.7467</td>\n",
       "      <td id=\"T_8c87a_row5_col1\" class=\"data row5 col1\" >0.8547</td>\n",
       "      <td id=\"T_8c87a_row5_col2\" class=\"data row5 col2\" >1.0000</td>\n",
       "      <td id=\"T_8c87a_row5_col3\" class=\"data row5 col3\" >0.7467</td>\n",
       "      <td id=\"T_8c87a_row5_col4\" class=\"data row5 col4\" >0.8549</td>\n",
       "      <td id=\"T_8c87a_row5_col5\" class=\"data row5 col5\" >0.0000</td>\n",
       "      <td id=\"T_8c87a_row5_col6\" class=\"data row5 col6\" >0.0000</td>\n",
       "    </tr>\n",
       "    <tr>\n",
       "      <th id=\"T_8c87a_level0_row6\" class=\"row_heading level0 row6\" >Std</th>\n",
       "      <td id=\"T_8c87a_row6_col0\" class=\"data row6 col0\" >0.0067</td>\n",
       "      <td id=\"T_8c87a_row6_col1\" class=\"data row6 col1\" >0.0875</td>\n",
       "      <td id=\"T_8c87a_row6_col2\" class=\"data row6 col2\" >0.0000</td>\n",
       "      <td id=\"T_8c87a_row6_col3\" class=\"data row6 col3\" >0.0067</td>\n",
       "      <td id=\"T_8c87a_row6_col4\" class=\"data row6 col4\" >0.0044</td>\n",
       "      <td id=\"T_8c87a_row6_col5\" class=\"data row6 col5\" >0.0000</td>\n",
       "      <td id=\"T_8c87a_row6_col6\" class=\"data row6 col6\" >0.0000</td>\n",
       "    </tr>\n",
       "  </tbody>\n",
       "</table>\n"
      ],
      "text/plain": [
       "<pandas.io.formats.style.Styler at 0x36f68c430>"
      ]
     },
     "metadata": {},
     "output_type": "display_data"
    },
    {
     "data": {
      "application/vnd.jupyter.widget-view+json": {
       "model_id": "418de678f4604f3b98f618a774dc3386",
       "version_major": 2,
       "version_minor": 0
      },
      "text/plain": [
       "Processing:   0%|          | 0/4 [00:00<?, ?it/s]"
      ]
     },
     "metadata": {},
     "output_type": "display_data"
    }
   ],
   "source": [
    "# 3. Training\n",
    "\n",
    "# https://www.kaggle.com/code/venkatkumar001/apc-3-pycaret-identify-best-algo-s/notebook\n",
    "\n",
    "import xgboost as xgb\n",
    "\n",
    "# 모델 생성에 사용될 설정\n",
    "reg = setup(data=train, # \n",
    "           target= 'Class/ASD', # columns = [col for col in train.columns if col not in ['ID', 'age_desc', 'Class/ASD'] ] \n",
    "           session_id = Config.SEED.value, # random_state = Config.SEED.value\n",
    "           verbose = False, # silent = True\n",
    "           fold = Config.N_FOLDS.value, # n_splits = Config.F_FOLDS.value\n",
    "           data_split_shuffle = True, # shuffle = True\n",
    "           ignore_features = ['Subject_Id'] # columns = [col for col in train.columns if col not in ['ID', 'age_desc', 'Class/ASD'] ] \n",
    "           )\n",
    "\n",
    "# 모델 생성: XGBoost + Stratified K-fold Cross-Validation 사용\n",
    "xgboost = create_model(\n",
    "    'xgboost',\n",
    "    **xgb_params # xgboost 모델에 hyper parameter 입력\n",
    "    )\n",
    "\n"
   ]
  },
  {
   "cell_type": "code",
   "execution_count": 27,
   "metadata": {},
   "outputs": [
    {
     "data": {
      "text/html": [],
      "text/plain": [
       "<IPython.core.display.HTML object>"
      ]
     },
     "metadata": {},
     "output_type": "display_data"
    },
    {
     "data": {
      "text/html": [
       "<style type=\"text/css\">\n",
       "#T_b3771_row5_col0, #T_b3771_row5_col1, #T_b3771_row5_col2, #T_b3771_row5_col3, #T_b3771_row5_col4, #T_b3771_row5_col5, #T_b3771_row5_col6 {\n",
       "  background: yellow;\n",
       "}\n",
       "</style>\n",
       "<table id=\"T_b3771\">\n",
       "  <thead>\n",
       "    <tr>\n",
       "      <th class=\"blank level0\" >&nbsp;</th>\n",
       "      <th id=\"T_b3771_level0_col0\" class=\"col_heading level0 col0\" >Accuracy</th>\n",
       "      <th id=\"T_b3771_level0_col1\" class=\"col_heading level0 col1\" >AUC</th>\n",
       "      <th id=\"T_b3771_level0_col2\" class=\"col_heading level0 col2\" >Recall</th>\n",
       "      <th id=\"T_b3771_level0_col3\" class=\"col_heading level0 col3\" >Prec.</th>\n",
       "      <th id=\"T_b3771_level0_col4\" class=\"col_heading level0 col4\" >F1</th>\n",
       "      <th id=\"T_b3771_level0_col5\" class=\"col_heading level0 col5\" >Kappa</th>\n",
       "      <th id=\"T_b3771_level0_col6\" class=\"col_heading level0 col6\" >MCC</th>\n",
       "    </tr>\n",
       "    <tr>\n",
       "      <th class=\"index_name level0\" >Fold</th>\n",
       "      <th class=\"blank col0\" >&nbsp;</th>\n",
       "      <th class=\"blank col1\" >&nbsp;</th>\n",
       "      <th class=\"blank col2\" >&nbsp;</th>\n",
       "      <th class=\"blank col3\" >&nbsp;</th>\n",
       "      <th class=\"blank col4\" >&nbsp;</th>\n",
       "      <th class=\"blank col5\" >&nbsp;</th>\n",
       "      <th class=\"blank col6\" >&nbsp;</th>\n",
       "    </tr>\n",
       "  </thead>\n",
       "  <tbody>\n",
       "    <tr>\n",
       "      <th id=\"T_b3771_level0_row0\" class=\"row_heading level0 row0\" >0</th>\n",
       "      <td id=\"T_b3771_row0_col0\" class=\"data row0 col0\" >0.7500</td>\n",
       "      <td id=\"T_b3771_row0_col1\" class=\"data row0 col1\" >0.9479</td>\n",
       "      <td id=\"T_b3771_row0_col2\" class=\"data row0 col2\" >1.0000</td>\n",
       "      <td id=\"T_b3771_row0_col3\" class=\"data row0 col3\" >0.7500</td>\n",
       "      <td id=\"T_b3771_row0_col4\" class=\"data row0 col4\" >0.8571</td>\n",
       "      <td id=\"T_b3771_row0_col5\" class=\"data row0 col5\" >0.0000</td>\n",
       "      <td id=\"T_b3771_row0_col6\" class=\"data row0 col6\" >0.0000</td>\n",
       "    </tr>\n",
       "    <tr>\n",
       "      <th id=\"T_b3771_level0_row1\" class=\"row_heading level0 row1\" >1</th>\n",
       "      <td id=\"T_b3771_row1_col0\" class=\"data row1 col0\" >0.8125</td>\n",
       "      <td id=\"T_b3771_row1_col1\" class=\"data row1 col1\" >0.8646</td>\n",
       "      <td id=\"T_b3771_row1_col2\" class=\"data row1 col2\" >1.0000</td>\n",
       "      <td id=\"T_b3771_row1_col3\" class=\"data row1 col3\" >0.8000</td>\n",
       "      <td id=\"T_b3771_row1_col4\" class=\"data row1 col4\" >0.8889</td>\n",
       "      <td id=\"T_b3771_row1_col5\" class=\"data row1 col5\" >0.3333</td>\n",
       "      <td id=\"T_b3771_row1_col6\" class=\"data row1 col6\" >0.4472</td>\n",
       "    </tr>\n",
       "    <tr>\n",
       "      <th id=\"T_b3771_level0_row2\" class=\"row_heading level0 row2\" >2</th>\n",
       "      <td id=\"T_b3771_row2_col0\" class=\"data row2 col0\" >0.7500</td>\n",
       "      <td id=\"T_b3771_row2_col1\" class=\"data row2 col1\" >0.9167</td>\n",
       "      <td id=\"T_b3771_row2_col2\" class=\"data row2 col2\" >1.0000</td>\n",
       "      <td id=\"T_b3771_row2_col3\" class=\"data row2 col3\" >0.7500</td>\n",
       "      <td id=\"T_b3771_row2_col4\" class=\"data row2 col4\" >0.8571</td>\n",
       "      <td id=\"T_b3771_row2_col5\" class=\"data row2 col5\" >0.0000</td>\n",
       "      <td id=\"T_b3771_row2_col6\" class=\"data row2 col6\" >0.0000</td>\n",
       "    </tr>\n",
       "    <tr>\n",
       "      <th id=\"T_b3771_level0_row3\" class=\"row_heading level0 row3\" >3</th>\n",
       "      <td id=\"T_b3771_row3_col0\" class=\"data row3 col0\" >0.7500</td>\n",
       "      <td id=\"T_b3771_row3_col1\" class=\"data row3 col1\" >0.8542</td>\n",
       "      <td id=\"T_b3771_row3_col2\" class=\"data row3 col2\" >0.8333</td>\n",
       "      <td id=\"T_b3771_row3_col3\" class=\"data row3 col3\" >0.8333</td>\n",
       "      <td id=\"T_b3771_row3_col4\" class=\"data row3 col4\" >0.8333</td>\n",
       "      <td id=\"T_b3771_row3_col5\" class=\"data row3 col5\" >0.3333</td>\n",
       "      <td id=\"T_b3771_row3_col6\" class=\"data row3 col6\" >0.3333</td>\n",
       "    </tr>\n",
       "    <tr>\n",
       "      <th id=\"T_b3771_level0_row4\" class=\"row_heading level0 row4\" >4</th>\n",
       "      <td id=\"T_b3771_row4_col0\" class=\"data row4 col0\" >0.8000</td>\n",
       "      <td id=\"T_b3771_row4_col1\" class=\"data row4 col1\" >0.7045</td>\n",
       "      <td id=\"T_b3771_row4_col2\" class=\"data row4 col2\" >1.0000</td>\n",
       "      <td id=\"T_b3771_row4_col3\" class=\"data row4 col3\" >0.7857</td>\n",
       "      <td id=\"T_b3771_row4_col4\" class=\"data row4 col4\" >0.8800</td>\n",
       "      <td id=\"T_b3771_row4_col5\" class=\"data row4 col5\" >0.3284</td>\n",
       "      <td id=\"T_b3771_row4_col6\" class=\"data row4 col6\" >0.4432</td>\n",
       "    </tr>\n",
       "    <tr>\n",
       "      <th id=\"T_b3771_level0_row5\" class=\"row_heading level0 row5\" >Mean</th>\n",
       "      <td id=\"T_b3771_row5_col0\" class=\"data row5 col0\" >0.7725</td>\n",
       "      <td id=\"T_b3771_row5_col1\" class=\"data row5 col1\" >0.8576</td>\n",
       "      <td id=\"T_b3771_row5_col2\" class=\"data row5 col2\" >0.9667</td>\n",
       "      <td id=\"T_b3771_row5_col3\" class=\"data row5 col3\" >0.7838</td>\n",
       "      <td id=\"T_b3771_row5_col4\" class=\"data row5 col4\" >0.8633</td>\n",
       "      <td id=\"T_b3771_row5_col5\" class=\"data row5 col5\" >0.1990</td>\n",
       "      <td id=\"T_b3771_row5_col6\" class=\"data row5 col6\" >0.2447</td>\n",
       "    </tr>\n",
       "    <tr>\n",
       "      <th id=\"T_b3771_level0_row6\" class=\"row_heading level0 row6\" >Std</th>\n",
       "      <td id=\"T_b3771_row6_col0\" class=\"data row6 col0\" >0.0278</td>\n",
       "      <td id=\"T_b3771_row6_col1\" class=\"data row6 col1\" >0.0838</td>\n",
       "      <td id=\"T_b3771_row6_col2\" class=\"data row6 col2\" >0.0667</td>\n",
       "      <td id=\"T_b3771_row6_col3\" class=\"data row6 col3\" >0.0316</td>\n",
       "      <td id=\"T_b3771_row6_col4\" class=\"data row6 col4\" >0.0195</td>\n",
       "      <td id=\"T_b3771_row6_col5\" class=\"data row6 col5\" >0.1625</td>\n",
       "      <td id=\"T_b3771_row6_col6\" class=\"data row6 col6\" >0.2040</td>\n",
       "    </tr>\n",
       "  </tbody>\n",
       "</table>\n"
      ],
      "text/plain": [
       "<pandas.io.formats.style.Styler at 0x36f779c70>"
      ]
     },
     "metadata": {},
     "output_type": "display_data"
    },
    {
     "data": {
      "application/vnd.jupyter.widget-view+json": {
       "model_id": "4c636228d91c49708fa5353bf44384bf",
       "version_major": 2,
       "version_minor": 0
      },
      "text/plain": [
       "Processing:   0%|          | 0/7 [00:00<?, ?it/s]"
      ]
     },
     "metadata": {},
     "output_type": "display_data"
    },
    {
     "name": "stdout",
     "output_type": "stream",
     "text": [
      "Fitting 5 folds for each of 1 candidates, totalling 5 fits\n",
      "Fitting 5 folds for each of 1 candidates, totalling 5 fits\n",
      "Fitting 5 folds for each of 1 candidates, totalling 5 fits\n",
      "Fitting 5 folds for each of 1 candidates, totalling 5 fits\n",
      "Fitting 5 folds for each of 1 candidates, totalling 5 fits\n",
      "Fitting 5 folds for each of 1 candidates, totalling 5 fits\n",
      "Fitting 5 folds for each of 1 candidates, totalling 5 fits\n",
      "Fitting 5 folds for each of 1 candidates, totalling 5 fits\n",
      "Fitting 5 folds for each of 1 candidates, totalling 5 fits\n",
      "Fitting 5 folds for each of 1 candidates, totalling 5 fits\n"
     ]
    }
   ],
   "source": [
    "\n",
    "# hyper parameter 튜닝 (Random Grid Search 사용)\n",
    "tuned_xgboost = tune_model(\n",
    "    xgboost,\n",
    "    search_library = 'scikit-optimize',\n",
    "    search_algorithm = 'bayesian'\n",
    "    )\n",
    "\n",
    "# 모델 예측\n",
    "predict_value = tuned_xgboost.predict(test.drop(['Subject_Id', 'Class/ASD'], axis = 1)) # shap_preds = tuned_xgboost.predict(test)"
   ]
  },
  {
   "cell_type": "code",
   "execution_count": 28,
   "metadata": {},
   "outputs": [
    {
     "data": {
      "text/html": [],
      "text/plain": [
       "<IPython.core.display.HTML object>"
      ]
     },
     "metadata": {},
     "output_type": "display_data"
    }
   ],
   "source": [
    "predict_model(tuned_xgboost, data = test.drop(['Subject_Id', 'Class/ASD'], axis = 1));"
   ]
  },
  {
   "cell_type": "markdown",
   "metadata": {},
   "source": [
    "<h2>5. Visualization</h2>"
   ]
  },
  {
   "cell_type": "code",
   "execution_count": 29,
   "metadata": {},
   "outputs": [
    {
     "data": {
      "application/vnd.jupyter.widget-view+json": {
       "model_id": "cb4198f04f614138852d509224326704",
       "version_major": 2,
       "version_minor": 0
      },
      "text/plain": [
       "interactive(children=(ToggleButtons(description='Plot Type:', icons=('',), options=(('Pipeline Plot', 'pipelin…"
      ]
     },
     "metadata": {},
     "output_type": "display_data"
    }
   ],
   "source": [
    "evaluate_model(tuned_xgboost)"
   ]
  },
  {
   "cell_type": "code",
   "execution_count": 21,
   "metadata": {},
   "outputs": [
    {
     "data": {
      "image/png": "[encoded data removed]",
      "text/plain": [
       "<Figure size 800x950 with 2 Axes>"
      ]
     },
     "metadata": {},
     "output_type": "display_data"
    },
    {
     "data": {
      "application/vnd.plotly.v1+json": {
       "config": {
        "plotlyServerURL": "https://plot.ly"
       },
       "data": [
        {
         "marker": {
          "color": [
           "#1f77b4",
           "#1f77b4",
           "#1f77b4",
           "#1f77b4",
           "#1f77b4",
           "#1f77b4",
           "#1f77b4",
           "#1f77b4",
           "#1f77b4",
           "#1f77b4",
           "#1f77b4",
           "#1f77b4",
           "#ff7f0e",
           "#ff7f0e",
           "#ff7f0e"
          ]
         },
         "orientation": "h",
         "type": "bar",
         "x": [
          0,
          0,
          0,
          0,
          0,
          0,
          0,
          0,
          0,
          0,
          0,
          0,
          0.016961368471384047,
          0.020954916223883627,
          0.8564513346701861
         ],
         "y": [
          "Q22",
          "Q21",
          "Q20",
          "Q19",
          "Q11",
          "Gender",
          "Q17",
          "Q16",
          "Q15",
          "Q14",
          "Q13",
          "Q12",
          "InspectDate",
          "Total_Score",
          "1st_Screening_ASD_Criteria"
         ]
        }
       ],
       "layout": {
        "template": {
         "data": {
          "bar": [
           {
            "error_x": {
             "color": "#2a3f5f"
            },
            "error_y": {
             "color": "#2a3f5f"
            },
            "marker": {
             "line": {
              "color": "#E5ECF6",
              "width": 0.5
             },
             "pattern": {
              "fillmode": "overlay",
              "size": 10,
              "solidity": 0.2
             }
            },
            "type": "bar"
           }
          ],
          "barpolar": [
           {
            "marker": {
             "line": {
              "color": "#E5ECF6",
              "width": 0.5
             },
             "pattern": {
              "fillmode": "overlay",
              "size": 10,
              "solidity": 0.2
             }
            },
            "type": "barpolar"
           }
          ],
          "carpet": [
           {
            "aaxis": {
             "endlinecolor": "#2a3f5f",
             "gridcolor": "white",
             "linecolor": "white",
             "minorgridcolor": "white",
             "startlinecolor": "#2a3f5f"
            },
            "baxis": {
             "endlinecolor": "#2a3f5f",
             "gridcolor": "white",
             "linecolor": "white",
             "minorgridcolor": "white",
             "startlinecolor": "#2a3f5f"
            },
            "type": "carpet"
           }
          ],
          "choropleth": [
           {
            "colorbar": {
             "outlinewidth": 0,
             "ticks": ""
            },
            "type": "choropleth"
           }
          ],
          "contour": [
           {
            "colorbar": {
             "outlinewidth": 0,
             "ticks": ""
            },
            "colorscale": [
             [
              0,
              "#0d0887"
             ],
             [
              0.1111111111111111,
              "#46039f"
             ],
             [
              0.2222222222222222,
              "#7201a8"
             ],
             [
              0.3333333333333333,
              "#9c179e"
             ],
             [
              0.4444444444444444,
              "#bd3786"
             ],
             [
              0.5555555555555556,
              "#d8576b"
             ],
             [
              0.6666666666666666,
              "#ed7953"
             ],
             [
              0.7777777777777778,
              "#fb9f3a"
             ],
             [
              0.8888888888888888,
              "#fdca26"
             ],
             [
              1,
              "#f0f921"
             ]
            ],
            "type": "contour"
           }
          ],
          "contourcarpet": [
           {
            "colorbar": {
             "outlinewidth": 0,
             "ticks": ""
            },
            "type": "contourcarpet"
           }
          ],
          "heatmap": [
           {
            "colorbar": {
             "outlinewidth": 0,
             "ticks": ""
            },
            "colorscale": [
             [
              0,
              "#0d0887"
             ],
             [
              0.1111111111111111,
              "#46039f"
             ],
             [
              0.2222222222222222,
              "#7201a8"
             ],
             [
              0.3333333333333333,
              "#9c179e"
             ],
             [
              0.4444444444444444,
              "#bd3786"
             ],
             [
              0.5555555555555556,
              "#d8576b"
             ],
             [
              0.6666666666666666,
              "#ed7953"
             ],
             [
              0.7777777777777778,
              "#fb9f3a"
             ],
             [
              0.8888888888888888,
              "#fdca26"
             ],
             [
              1,
              "#f0f921"
             ]
            ],
            "type": "heatmap"
           }
          ],
          "heatmapgl": [
           {
            "colorbar": {
             "outlinewidth": 0,
             "ticks": ""
            },
            "colorscale": [
             [
              0,
              "#0d0887"
             ],
             [
              0.1111111111111111,
              "#46039f"
             ],
             [
              0.2222222222222222,
              "#7201a8"
             ],
             [
              0.3333333333333333,
              "#9c179e"
             ],
             [
              0.4444444444444444,
              "#bd3786"
             ],
             [
              0.5555555555555556,
              "#d8576b"
             ],
             [
              0.6666666666666666,
              "#ed7953"
             ],
             [
              0.7777777777777778,
              "#fb9f3a"
             ],
             [
              0.8888888888888888,
              "#fdca26"
             ],
             [
              1,
              "#f0f921"
             ]
            ],
            "type": "heatmapgl"
           }
          ],
          "histogram": [
           {
            "marker": {
             "pattern": {
              "fillmode": "overlay",
              "size": 10,
              "solidity": 0.2
             }
            },
            "type": "histogram"
           }
          ],
          "histogram2d": [
           {
            "colorbar": {
             "outlinewidth": 0,
             "ticks": ""
            },
            "colorscale": [
             [
              0,
              "#0d0887"
             ],
             [
              0.1111111111111111,
              "#46039f"
             ],
             [
              0.2222222222222222,
              "#7201a8"
             ],
             [
              0.3333333333333333,
              "#9c179e"
             ],
             [
              0.4444444444444444,
              "#bd3786"
             ],
             [
              0.5555555555555556,
              "#d8576b"
             ],
             [
              0.6666666666666666,
              "#ed7953"
             ],
             [
              0.7777777777777778,
              "#fb9f3a"
             ],
             [
              0.8888888888888888,
              "#fdca26"
             ],
             [
              1,
              "#f0f921"
             ]
            ],
            "type": "histogram2d"
           }
          ],
          "histogram2dcontour": [
           {
            "colorbar": {
             "outlinewidth": 0,
             "ticks": ""
            },
            "colorscale": [
             [
              0,
              "#0d0887"
             ],
             [
              0.1111111111111111,
              "#46039f"
             ],
             [
              0.2222222222222222,
              "#7201a8"
             ],
             [
              0.3333333333333333,
              "#9c179e"
             ],
             [
              0.4444444444444444,
              "#bd3786"
             ],
             [
              0.5555555555555556,
              "#d8576b"
             ],
             [
              0.6666666666666666,
              "#ed7953"
             ],
             [
              0.7777777777777778,
              "#fb9f3a"
             ],
             [
              0.8888888888888888,
              "#fdca26"
             ],
             [
              1,
              "#f0f921"
             ]
            ],
            "type": "histogram2dcontour"
           }
          ],
          "mesh3d": [
           {
            "colorbar": {
             "outlinewidth": 0,
             "ticks": ""
            },
            "type": "mesh3d"
           }
          ],
          "parcoords": [
           {
            "line": {
             "colorbar": {
              "outlinewidth": 0,
              "ticks": ""
             }
            },
            "type": "parcoords"
           }
          ],
          "pie": [
           {
            "automargin": true,
            "type": "pie"
           }
          ],
          "scatter": [
           {
            "fillpattern": {
             "fillmode": "overlay",
             "size": 10,
             "solidity": 0.2
            },
            "type": "scatter"
           }
          ],
          "scatter3d": [
           {
            "line": {
             "colorbar": {
              "outlinewidth": 0,
              "ticks": ""
             }
            },
            "marker": {
             "colorbar": {
              "outlinewidth": 0,
              "ticks": ""
             }
            },
            "type": "scatter3d"
           }
          ],
          "scattercarpet": [
           {
            "marker": {
             "colorbar": {
              "outlinewidth": 0,
              "ticks": ""
             }
            },
            "type": "scattercarpet"
           }
          ],
          "scattergeo": [
           {
            "marker": {
             "colorbar": {
              "outlinewidth": 0,
              "ticks": ""
             }
            },
            "type": "scattergeo"
           }
          ],
          "scattergl": [
           {
            "marker": {
             "colorbar": {
              "outlinewidth": 0,
              "ticks": ""
             }
            },
            "type": "scattergl"
           }
          ],
          "scattermapbox": [
           {
            "marker": {
             "colorbar": {
              "outlinewidth": 0,
              "ticks": ""
             }
            },
            "type": "scattermapbox"
           }
          ],
          "scatterpolar": [
           {
            "marker": {
             "colorbar": {
              "outlinewidth": 0,
              "ticks": ""
             }
            },
            "type": "scatterpolar"
           }
          ],
          "scatterpolargl": [
           {
            "marker": {
             "colorbar": {
              "outlinewidth": 0,
              "ticks": ""
             }
            },
            "type": "scatterpolargl"
           }
          ],
          "scatterternary": [
           {
            "marker": {
             "colorbar": {
              "outlinewidth": 0,
              "ticks": ""
             }
            },
            "type": "scatterternary"
           }
          ],
          "surface": [
           {
            "colorbar": {
             "outlinewidth": 0,
             "ticks": ""
            },
            "colorscale": [
             [
              0,
              "#0d0887"
             ],
             [
              0.1111111111111111,
              "#46039f"
             ],
             [
              0.2222222222222222,
              "#7201a8"
             ],
             [
              0.3333333333333333,
              "#9c179e"
             ],
             [
              0.4444444444444444,
              "#bd3786"
             ],
             [
              0.5555555555555556,
              "#d8576b"
             ],
             [
              0.6666666666666666,
              "#ed7953"
             ],
             [
              0.7777777777777778,
              "#fb9f3a"
             ],
             [
              0.8888888888888888,
              "#fdca26"
             ],
             [
              1,
              "#f0f921"
             ]
            ],
            "type": "surface"
           }
          ],
          "table": [
           {
            "cells": {
             "fill": {
              "color": "#EBF0F8"
             },
             "line": {
              "color": "white"
             }
            },
            "header": {
             "fill": {
              "color": "#C8D4E3"
             },
             "line": {
              "color": "white"
             }
            },
            "type": "table"
           }
          ]
         },
         "layout": {
          "annotationdefaults": {
           "arrowcolor": "#2a3f5f",
           "arrowhead": 0,
           "arrowwidth": 1
          },
          "autotypenumbers": "strict",
          "coloraxis": {
           "colorbar": {
            "outlinewidth": 0,
            "ticks": ""
           }
          },
          "colorscale": {
           "diverging": [
            [
             0,
             "#8e0152"
            ],
            [
             0.1,
             "#c51b7d"
            ],
            [
             0.2,
             "#de77ae"
            ],
            [
             0.3,
             "#f1b6da"
            ],
            [
             0.4,
             "#fde0ef"
            ],
            [
             0.5,
             "#f7f7f7"
            ],
            [
             0.6,
             "#e6f5d0"
            ],
            [
             0.7,
             "#b8e186"
            ],
            [
             0.8,
             "#7fbc41"
            ],
            [
             0.9,
             "#4d9221"
            ],
            [
             1,
             "#276419"
            ]
           ],
           "sequential": [
            [
             0,
             "#0d0887"
            ],
            [
             0.1111111111111111,
             "#46039f"
            ],
            [
             0.2222222222222222,
             "#7201a8"
            ],
            [
             0.3333333333333333,
             "#9c179e"
            ],
            [
             0.4444444444444444,
             "#bd3786"
            ],
            [
             0.5555555555555556,
             "#d8576b"
            ],
            [
             0.6666666666666666,
             "#ed7953"
            ],
            [
             0.7777777777777778,
             "#fb9f3a"
            ],
            [
             0.8888888888888888,
             "#fdca26"
            ],
            [
             1,
             "#f0f921"
            ]
           ],
           "sequentialminus": [
            [
             0,
             "#0d0887"
            ],
            [
             0.1111111111111111,
             "#46039f"
            ],
            [
             0.2222222222222222,
             "#7201a8"
            ],
            [
             0.3333333333333333,
             "#9c179e"
            ],
            [
             0.4444444444444444,
             "#bd3786"
            ],
            [
             0.5555555555555556,
             "#d8576b"
            ],
            [
             0.6666666666666666,
             "#ed7953"
            ],
            [
             0.7777777777777778,
             "#fb9f3a"
            ],
            [
             0.8888888888888888,
             "#fdca26"
            ],
            [
             1,
             "#f0f921"
            ]
           ]
          },
          "colorway": [
           "#636efa",
           "#EF553B",
           "#00cc96",
           "#ab63fa",
           "#FFA15A",
           "#19d3f3",
           "#FF6692",
           "#B6E880",
           "#FF97FF",
           "#FECB52"
          ],
          "font": {
           "color": "#2a3f5f"
          },
          "geo": {
           "bgcolor": "white",
           "lakecolor": "white",
           "landcolor": "#E5ECF6",
           "showlakes": true,
           "showland": true,
           "subunitcolor": "white"
          },
          "hoverlabel": {
           "align": "left"
          },
          "hovermode": "closest",
          "mapbox": {
           "style": "light"
          },
          "paper_bgcolor": "white",
          "plot_bgcolor": "#E5ECF6",
          "polar": {
           "angularaxis": {
            "gridcolor": "white",
            "linecolor": "white",
            "ticks": ""
           },
           "bgcolor": "#E5ECF6",
           "radialaxis": {
            "gridcolor": "white",
            "linecolor": "white",
            "ticks": ""
           }
          },
          "scene": {
           "xaxis": {
            "backgroundcolor": "#E5ECF6",
            "gridcolor": "white",
            "gridwidth": 2,
            "linecolor": "white",
            "showbackground": true,
            "ticks": "",
            "zerolinecolor": "white"
           },
           "yaxis": {
            "backgroundcolor": "#E5ECF6",
            "gridcolor": "white",
            "gridwidth": 2,
            "linecolor": "white",
            "showbackground": true,
            "ticks": "",
            "zerolinecolor": "white"
           },
           "zaxis": {
            "backgroundcolor": "#E5ECF6",
            "gridcolor": "white",
            "gridwidth": 2,
            "linecolor": "white",
            "showbackground": true,
            "ticks": "",
            "zerolinecolor": "white"
           }
          },
          "shapedefaults": {
           "line": {
            "color": "#2a3f5f"
           }
          },
          "ternary": {
           "aaxis": {
            "gridcolor": "white",
            "linecolor": "white",
            "ticks": ""
           },
           "baxis": {
            "gridcolor": "white",
            "linecolor": "white",
            "ticks": ""
           },
           "bgcolor": "#E5ECF6",
           "caxis": {
            "gridcolor": "white",
            "linecolor": "white",
            "ticks": ""
           }
          },
          "title": {
           "x": 0.05
          },
          "xaxis": {
           "automargin": true,
           "gridcolor": "white",
           "linecolor": "white",
           "ticks": "",
           "title": {
            "standoff": 15
           },
           "zerolinecolor": "white",
           "zerolinewidth": 2
          },
          "yaxis": {
           "automargin": true,
           "gridcolor": "white",
           "linecolor": "white",
           "ticks": "",
           "title": {
            "standoff": 15
           },
           "zerolinecolor": "white",
           "zerolinewidth": 2
          }
         }
        },
        "title": {
         "text": "Morris Sensitivity<br>Convergence Index: 0.072"
        },
        "xaxis": {
         "range": [
          0,
          0.8564513346701861
         ],
         "title": {
          "text": ""
         }
        },
        "yaxis": {
         "automargin": true,
         "dtick": 1,
         "title": {
          "text": ""
         }
        }
       }
      }
     },
     "metadata": {},
     "output_type": "display_data"
    }
   ],
   "source": [
    "# SHAP 결과\n",
    "interpret_model(tuned_xgboost, plot = 'summary')\n",
    "interpret_model(tuned_xgboost, plot = 'msa')"
   ]
  },
  {
   "cell_type": "code",
   "execution_count": 30,
   "metadata": {},
   "outputs": [
    {
     "data": {
      "image/png": "[encoded data removed]",
      "text/plain": [
       "<Figure size 1000x800 with 1 Axes>"
      ]
     },
     "metadata": {},
     "output_type": "display_data"
    }
   ],
   "source": [
    "#feature importance\n",
    "\n",
    "import matplotlib.pyplot as plt\n",
    "\n",
    "feature_imp = pd.DataFrame({\n",
    "    'Feature': test.drop(['Subject_Id', 'Class/ASD'], axis = 1).columns,\n",
    "    'Importance': tuned_xgboost.feature_importances_\n",
    "}).sort_values(by='Importance', ascending=False)\n",
    "#print(feature_imp)\n",
    "\n",
    "# Plotting the feature importances\n",
    "plt.figure(figsize=(10, 8))\n",
    "plt.barh(feature_imp['Feature'], feature_imp['Importance'], color='skyblue')\n",
    "plt.xlabel('Importance')\n",
    "plt.ylabel('Features')\n",
    "plt.title('Feature Importance from XGBoost Model')\n",
    "plt.gca().invert_yaxis()  # Invert y-axis to show the most important at the top\n",
    "plt.show()"
   ]
  },
  {
   "cell_type": "markdown",
   "metadata": {},
   "source": [
    "<h2>6. Prediction</h2>"
   ]
  },
  {
   "cell_type": "code",
   "execution_count": 31,
   "metadata": {},
   "outputs": [
    {
     "data": {
      "text/html": [
       "<style type=\"text/css\">\n",
       "</style>\n",
       "<table id=\"T_29057\">\n",
       "  <thead>\n",
       "    <tr>\n",
       "      <th class=\"blank level0\" >&nbsp;</th>\n",
       "      <th id=\"T_29057_level0_col0\" class=\"col_heading level0 col0\" >Model</th>\n",
       "      <th id=\"T_29057_level0_col1\" class=\"col_heading level0 col1\" >Accuracy</th>\n",
       "      <th id=\"T_29057_level0_col2\" class=\"col_heading level0 col2\" >AUC</th>\n",
       "      <th id=\"T_29057_level0_col3\" class=\"col_heading level0 col3\" >Recall</th>\n",
       "      <th id=\"T_29057_level0_col4\" class=\"col_heading level0 col4\" >Prec.</th>\n",
       "      <th id=\"T_29057_level0_col5\" class=\"col_heading level0 col5\" >F1</th>\n",
       "      <th id=\"T_29057_level0_col6\" class=\"col_heading level0 col6\" >Kappa</th>\n",
       "      <th id=\"T_29057_level0_col7\" class=\"col_heading level0 col7\" >MCC</th>\n",
       "    </tr>\n",
       "  </thead>\n",
       "  <tbody>\n",
       "    <tr>\n",
       "      <th id=\"T_29057_level0_row0\" class=\"row_heading level0 row0\" >0</th>\n",
       "      <td id=\"T_29057_row0_col0\" class=\"data row0 col0\" >Extreme Gradient Boosting</td>\n",
       "      <td id=\"T_29057_row0_col1\" class=\"data row0 col1\" >0.7931</td>\n",
       "      <td id=\"T_29057_row0_col2\" class=\"data row0 col2\" >0.7174</td>\n",
       "      <td id=\"T_29057_row0_col3\" class=\"data row0 col3\" >1.0000</td>\n",
       "      <td id=\"T_29057_row0_col4\" class=\"data row0 col4\" >0.7931</td>\n",
       "      <td id=\"T_29057_row0_col5\" class=\"data row0 col5\" >0.8846</td>\n",
       "      <td id=\"T_29057_row0_col6\" class=\"data row0 col6\" >0.0000</td>\n",
       "      <td id=\"T_29057_row0_col7\" class=\"data row0 col7\" >0.0000</td>\n",
       "    </tr>\n",
       "  </tbody>\n",
       "</table>\n"
      ],
      "text/plain": [
       "<pandas.io.formats.style.Styler at 0x359cbfa00>"
      ]
     },
     "metadata": {},
     "output_type": "display_data"
    }
   ],
   "source": [
    "predict_model(tuned_xgboost, data = test);"
   ]
  },
  {
   "cell_type": "code",
   "execution_count": 32,
   "metadata": {},
   "outputs": [],
   "source": [
    "# 5 most important feature csv파일로 추출\n",
    "feature_imp['Feature'].head(5).to_csv(\"5most_important_features.csv\", index = False)"
   ]
  }
 ],
 "metadata": {
  "kernelspec": {
   "display_name": "Python 3",
   "language": "python",
   "name": "python3"
  },
  "language_info": {
   "codemirror_mode": {
    "name": "ipython",
    "version": 3
   },
   "file_extension": ".py",
   "mimetype": "text/x-python",
   "name": "python",
   "nbconvert_exporter": "python",
   "pygments_lexer": "ipython3",
   "version": "3.9.6"
  }
 },
 "nbformat": 4,
 "nbformat_minor": 2
}
